{
 "cells": [
  {
   "cell_type": "code",
   "execution_count": 8,
   "metadata": {},
   "outputs": [
    {
     "name": "stdout",
     "output_type": "stream",
     "text": [
      " * Serving Flask app '__main__'\n",
      " * Debug mode: off\n"
     ]
    },
    {
     "name": "stderr",
     "output_type": "stream",
     "text": [
      "WARNING: This is a development server. Do not use it in a production deployment. Use a production WSGI server instead.\n",
      " * Running on all addresses (0.0.0.0)\n",
      " * Running on http://127.0.0.1:5000\n",
      " * Running on http://220.68.27.103:5000\n",
      "Press CTRL+C to quit\n",
      "220.68.27.103 - - [13/Jun/2024 12:38:08] \"GET /environment HTTP/1.1\" 200 -\n",
      "220.68.27.103 - - [13/Jun/2024 12:38:13] \"GET /environment HTTP/1.1\" 200 -\n",
      "220.68.27.103 - - [13/Jun/2024 12:38:18] \"GET /environment HTTP/1.1\" 200 -\n",
      "220.68.27.103 - - [13/Jun/2024 12:38:23] \"GET /environment HTTP/1.1\" 200 -\n",
      "220.68.27.64 - - [13/Jun/2024 12:38:26] \"POST /api HTTP/1.1\" 200 -\n",
      "220.68.27.64 - - [13/Jun/2024 12:38:26] \"POST /environment HTTP/1.1\" 405 -\n"
     ]
    },
    {
     "name": "stdout",
     "output_type": "stream",
     "text": [
      "{'temp': 26.2, 'humid': 73.0, 'pm': 8.74, 'rain': 57.0, 'gas': 78.0, 'light': 165.0}\n"
     ]
    },
    {
     "name": "stderr",
     "output_type": "stream",
     "text": [
      "220.68.27.103 - - [13/Jun/2024 12:38:28] \"GET /environment HTTP/1.1\" 200 -\n",
      "220.68.27.103 - - [13/Jun/2024 12:38:29] \"GET / HTTP/1.1\" 200 -\n",
      "220.68.27.103 - - [13/Jun/2024 12:38:29] \"GET /environment HTTP/1.1\" 200 -\n",
      "220.68.27.103 - - [13/Jun/2024 12:38:31] \"GET /environment HTTP/1.1\" 200 -\n",
      "220.68.27.64 - - [13/Jun/2024 12:38:31] \"GET /window_status HTTP/1.1\" 200 -\n",
      "220.68.27.64 - - [13/Jun/2024 12:38:31] \"POST /api HTTP/1.1\" 200 -\n",
      "220.68.27.64 - - [13/Jun/2024 12:38:31] \"POST /environment HTTP/1.1\" 405 -\n"
     ]
    },
    {
     "name": "stdout",
     "output_type": "stream",
     "text": [
      "{'temp': 26.2, 'humid': 73.0, 'pm': 0.44, 'rain': 57.0, 'gas': 78.0, 'light': 166.0}\n"
     ]
    },
    {
     "name": "stderr",
     "output_type": "stream",
     "text": [
      "220.68.27.103 - - [13/Jun/2024 12:38:34] \"GET /environment HTTP/1.1\" 200 -\n",
      "220.68.27.103 - - [13/Jun/2024 12:38:34] \"GET /environment HTTP/1.1\" 200 -\n",
      "220.68.27.103 - - [13/Jun/2024 12:38:36] \"POST /window HTTP/1.1\" 200 -\n",
      "220.68.27.64 - - [13/Jun/2024 12:38:36] \"GET /window_status HTTP/1.1\" 200 -\n",
      "220.68.27.64 - - [13/Jun/2024 12:38:36] \"POST /api HTTP/1.1\" 200 -\n",
      "220.68.27.64 - - [13/Jun/2024 12:38:37] \"POST /environment HTTP/1.1\" 405 -\n"
     ]
    },
    {
     "name": "stdout",
     "output_type": "stream",
     "text": [
      "{'temp': 26.2, 'humid': 73.0, 'pm': 19.53, 'rain': 57.0, 'gas': 77.0, 'light': 166.0}\n"
     ]
    },
    {
     "name": "stderr",
     "output_type": "stream",
     "text": [
      "220.68.27.103 - - [13/Jun/2024 12:38:39] \"GET /environment HTTP/1.1\" 200 -\n",
      "220.68.27.103 - - [13/Jun/2024 12:38:39] \"GET /environment HTTP/1.1\" 200 -\n",
      "220.68.27.64 - - [13/Jun/2024 12:38:42] \"GET /window_status HTTP/1.1\" 200 -\n",
      "220.68.27.64 - - [13/Jun/2024 12:38:42] \"POST /api HTTP/1.1\" 200 -\n",
      "220.68.27.64 - - [13/Jun/2024 12:38:42] \"POST /environment HTTP/1.1\" 405 -\n"
     ]
    },
    {
     "name": "stdout",
     "output_type": "stream",
     "text": [
      "{'temp': 26.2, 'humid': 73.0, 'pm': 9.57, 'rain': 59.0, 'gas': 78.0, 'light': 175.0}\n"
     ]
    },
    {
     "name": "stderr",
     "output_type": "stream",
     "text": [
      "220.68.27.103 - - [13/Jun/2024 12:38:44] \"GET /environment HTTP/1.1\" 200 -\n",
      "220.68.27.103 - - [13/Jun/2024 12:38:44] \"GET /environment HTTP/1.1\" 200 -\n",
      "220.68.27.64 - - [13/Jun/2024 12:38:47] \"GET /window_status HTTP/1.1\" 200 -\n",
      "220.68.27.64 - - [13/Jun/2024 12:38:47] \"POST /api HTTP/1.1\" 200 -\n",
      "220.68.27.64 - - [13/Jun/2024 12:38:47] \"POST /environment HTTP/1.1\" 405 -\n"
     ]
    },
    {
     "name": "stdout",
     "output_type": "stream",
     "text": [
      "{'temp': 26.2, 'humid': 73.0, 'pm': 8.74, 'rain': 56.0, 'gas': 76.0, 'light': 172.0}\n"
     ]
    },
    {
     "name": "stderr",
     "output_type": "stream",
     "text": [
      "220.68.27.103 - - [13/Jun/2024 12:38:49] \"GET /environment HTTP/1.1\" 200 -\n",
      "220.68.27.103 - - [13/Jun/2024 12:38:49] \"GET /environment HTTP/1.1\" 200 -\n",
      "220.68.27.64 - - [13/Jun/2024 12:38:52] \"GET /window_status HTTP/1.1\" 200 -\n",
      "220.68.27.64 - - [13/Jun/2024 12:38:52] \"POST /api HTTP/1.1\" 200 -\n",
      "220.68.27.64 - - [13/Jun/2024 12:38:52] \"POST /environment HTTP/1.1\" 405 -\n"
     ]
    },
    {
     "name": "stdout",
     "output_type": "stream",
     "text": [
      "{'temp': 26.2, 'humid': 73.0, 'pm': 7.08, 'rain': 45.0, 'gas': 67.0, 'light': 161.0}\n"
     ]
    },
    {
     "name": "stderr",
     "output_type": "stream",
     "text": [
      "220.68.27.103 - - [13/Jun/2024 12:38:54] \"GET /environment HTTP/1.1\" 200 -\n",
      "220.68.27.103 - - [13/Jun/2024 12:38:54] \"GET /environment HTTP/1.1\" 200 -\n",
      "220.68.27.103 - - [13/Jun/2024 12:38:56] \"POST /window HTTP/1.1\" 200 -\n",
      "220.68.27.64 - - [13/Jun/2024 12:38:57] \"GET /window_status HTTP/1.1\" 200 -\n",
      "220.68.27.64 - - [13/Jun/2024 12:38:57] \"POST /api HTTP/1.1\" 200 -\n",
      "220.68.27.64 - - [13/Jun/2024 12:38:57] \"POST /environment HTTP/1.1\" 405 -\n"
     ]
    },
    {
     "name": "stdout",
     "output_type": "stream",
     "text": [
      "{'temp': 26.2, 'humid': 73.0, 'pm': 9.57, 'rain': 45.0, 'gas': 67.0, 'light': 162.0}\n"
     ]
    },
    {
     "name": "stderr",
     "output_type": "stream",
     "text": [
      "220.68.27.103 - - [13/Jun/2024 12:38:59] \"GET /environment HTTP/1.1\" 200 -\n",
      "220.68.27.103 - - [13/Jun/2024 12:38:59] \"GET /environment HTTP/1.1\" 200 -\n",
      "220.68.27.103 - - [13/Jun/2024 12:39:01] \"POST /window HTTP/1.1\" 200 -\n",
      "220.68.27.64 - - [13/Jun/2024 12:39:02] \"GET /window_status HTTP/1.1\" 200 -\n",
      "220.68.27.64 - - [13/Jun/2024 12:39:02] \"POST /api HTTP/1.1\" 200 -\n",
      "220.68.27.64 - - [13/Jun/2024 12:39:02] \"POST /environment HTTP/1.1\" 405 -\n"
     ]
    },
    {
     "name": "stdout",
     "output_type": "stream",
     "text": [
      "{'temp': 26.2, 'humid': 73.0, 'pm': 5.42, 'rain': 45.0, 'gas': 66.0, 'light': 160.0}\n"
     ]
    },
    {
     "name": "stderr",
     "output_type": "stream",
     "text": [
      "220.68.27.103 - - [13/Jun/2024 12:39:04] \"GET /environment HTTP/1.1\" 200 -\n",
      "220.68.27.103 - - [13/Jun/2024 12:39:04] \"GET /environment HTTP/1.1\" 200 -\n",
      "220.68.27.64 - - [13/Jun/2024 12:39:07] \"GET /window_status HTTP/1.1\" 200 -\n",
      "220.68.27.64 - - [13/Jun/2024 12:39:08] \"POST /api HTTP/1.1\" 200 -\n",
      "220.68.27.64 - - [13/Jun/2024 12:39:08] \"POST /environment HTTP/1.1\" 405 -\n"
     ]
    },
    {
     "name": "stdout",
     "output_type": "stream",
     "text": [
      "{'temp': 26.2, 'humid': 73.0, 'pm': 4.59, 'rain': 45.0, 'gas': 67.0, 'light': 160.0}\n"
     ]
    },
    {
     "name": "stderr",
     "output_type": "stream",
     "text": [
      "220.68.27.103 - - [13/Jun/2024 12:39:08] \"POST /window HTTP/1.1\" 200 -\n",
      "220.68.27.103 - - [13/Jun/2024 12:39:09] \"GET /environment HTTP/1.1\" 200 -\n",
      "220.68.27.103 - - [13/Jun/2024 12:39:09] \"GET /environment HTTP/1.1\" 200 -\n",
      "220.68.27.64 - - [13/Jun/2024 12:39:13] \"GET /window_status HTTP/1.1\" 200 -\n",
      "220.68.27.64 - - [13/Jun/2024 12:39:13] \"POST /api HTTP/1.1\" 200 -\n",
      "220.68.27.64 - - [13/Jun/2024 12:39:13] \"POST /environment HTTP/1.1\" 405 -\n"
     ]
    },
    {
     "name": "stdout",
     "output_type": "stream",
     "text": [
      "{'temp': 26.2, 'humid': 73.0, 'pm': 8.74, 'rain': 44.0, 'gas': 66.0, 'light': 158.0}\n"
     ]
    },
    {
     "name": "stderr",
     "output_type": "stream",
     "text": [
      "220.68.27.103 - - [13/Jun/2024 12:39:14] \"GET /environment HTTP/1.1\" 200 -\n",
      "220.68.27.103 - - [13/Jun/2024 12:39:14] \"GET /environment HTTP/1.1\" 200 -\n",
      "220.68.27.64 - - [13/Jun/2024 12:39:18] \"GET /window_status HTTP/1.1\" 200 -\n",
      "220.68.27.64 - - [13/Jun/2024 12:39:18] \"POST /api HTTP/1.1\" 200 -\n",
      "220.68.27.64 - - [13/Jun/2024 12:39:18] \"POST /environment HTTP/1.1\" 405 -\n"
     ]
    },
    {
     "name": "stdout",
     "output_type": "stream",
     "text": [
      "{'temp': 26.2, 'humid': 73.0, 'pm': 21.19, 'rain': 44.0, 'gas': 67.0, 'light': 162.0}\n"
     ]
    },
    {
     "name": "stderr",
     "output_type": "stream",
     "text": [
      "220.68.27.103 - - [13/Jun/2024 12:39:18] \"POST /window HTTP/1.1\" 200 -\n",
      "220.68.27.103 - - [13/Jun/2024 12:39:19] \"GET /environment HTTP/1.1\" 200 -\n",
      "220.68.27.103 - - [13/Jun/2024 12:39:19] \"GET /environment HTTP/1.1\" 200 -\n",
      "220.68.27.64 - - [13/Jun/2024 12:39:23] \"GET /window_status HTTP/1.1\" 200 -\n",
      "220.68.27.64 - - [13/Jun/2024 12:39:23] \"POST /api HTTP/1.1\" 200 -\n",
      "220.68.27.64 - - [13/Jun/2024 12:39:23] \"POST /environment HTTP/1.1\" 405 -\n"
     ]
    },
    {
     "name": "stdout",
     "output_type": "stream",
     "text": [
      "{'temp': 26.2, 'humid': 73.0, 'pm': 4.59, 'rain': 44.0, 'gas': 66.0, 'light': 158.0}\n"
     ]
    },
    {
     "name": "stderr",
     "output_type": "stream",
     "text": [
      "220.68.27.103 - - [13/Jun/2024 12:39:24] \"GET /environment HTTP/1.1\" 200 -\n",
      "220.68.27.103 - - [13/Jun/2024 12:39:24] \"GET /environment HTTP/1.1\" 200 -\n",
      "220.68.27.64 - - [13/Jun/2024 12:39:28] \"GET /window_status HTTP/1.1\" 200 -\n",
      "220.68.27.64 - - [13/Jun/2024 12:39:28] \"POST /api HTTP/1.1\" 200 -\n",
      "220.68.27.64 - - [13/Jun/2024 12:39:28] \"POST /environment HTTP/1.1\" 405 -\n"
     ]
    },
    {
     "name": "stdout",
     "output_type": "stream",
     "text": [
      "{'temp': 26.2, 'humid': 73.0, 'pm': 6.25, 'rain': 44.0, 'gas': 66.0, 'light': 162.0}\n"
     ]
    },
    {
     "name": "stderr",
     "output_type": "stream",
     "text": [
      "220.68.27.103 - - [13/Jun/2024 12:39:29] \"GET /environment HTTP/1.1\" 200 -\n",
      "220.68.27.103 - - [13/Jun/2024 12:39:29] \"GET /environment HTTP/1.1\" 200 -\n",
      "220.68.27.103 - - [13/Jun/2024 12:39:31] \"GET /environment HTTP/1.1\" 200 -\n",
      "220.68.27.64 - - [13/Jun/2024 12:39:33] \"GET /window_status HTTP/1.1\" 200 -\n",
      "220.68.27.64 - - [13/Jun/2024 12:39:33] \"POST /api HTTP/1.1\" 200 -\n",
      "220.68.27.64 - - [13/Jun/2024 12:39:33] \"POST /environment HTTP/1.1\" 405 -\n",
      "220.68.27.103 - - [13/Jun/2024 12:39:34] \"GET /environment HTTP/1.1\" 200 -\n"
     ]
    },
    {
     "name": "stdout",
     "output_type": "stream",
     "text": [
      "{'temp': 26.2, 'humid': 73.0, 'pm': 3.76, 'rain': 43.0, 'gas': 66.0, 'light': 154.0}\n"
     ]
    },
    {
     "name": "stderr",
     "output_type": "stream",
     "text": [
      "220.68.27.64 - - [13/Jun/2024 12:39:39] \"GET /window_status HTTP/1.1\" 200 -\n",
      "220.68.27.64 - - [13/Jun/2024 12:39:39] \"POST /api HTTP/1.1\" 200 -\n",
      "220.68.27.103 - - [13/Jun/2024 12:39:39] \"GET /environment HTTP/1.1\" 200 -\n",
      "220.68.27.64 - - [13/Jun/2024 12:39:39] \"POST /environment HTTP/1.1\" 405 -\n"
     ]
    },
    {
     "name": "stdout",
     "output_type": "stream",
     "text": [
      "{'temp': 26.2, 'humid': 73.0, 'pm': 7.08, 'rain': 43.0, 'gas': 65.0, 'light': 158.0}\n"
     ]
    },
    {
     "name": "stderr",
     "output_type": "stream",
     "text": [
      "220.68.27.103 - - [13/Jun/2024 12:39:44] \"GET /environment HTTP/1.1\" 200 -\n",
      "220.68.27.64 - - [13/Jun/2024 12:39:44] \"GET /window_status HTTP/1.1\" 200 -\n",
      "220.68.27.64 - - [13/Jun/2024 12:39:44] \"POST /api HTTP/1.1\" 200 -\n",
      "220.68.27.64 - - [13/Jun/2024 12:39:44] \"POST /environment HTTP/1.1\" 405 -\n"
     ]
    },
    {
     "name": "stdout",
     "output_type": "stream",
     "text": [
      "{'temp': 26.2, 'humid': 73.0, 'pm': 17.87, 'rain': 43.0, 'gas': 68.0, 'light': 159.0}\n"
     ]
    },
    {
     "name": "stderr",
     "output_type": "stream",
     "text": [
      "220.68.27.103 - - [13/Jun/2024 12:39:49] \"GET /environment HTTP/1.1\" 200 -\n",
      "220.68.27.64 - - [13/Jun/2024 12:39:49] \"GET /window_status HTTP/1.1\" 200 -\n",
      "220.68.27.64 - - [13/Jun/2024 12:39:49] \"POST /api HTTP/1.1\" 200 -\n",
      "220.68.27.64 - - [13/Jun/2024 12:39:49] \"POST /environment HTTP/1.1\" 405 -\n"
     ]
    },
    {
     "name": "stdout",
     "output_type": "stream",
     "text": [
      "{'temp': 26.2, 'humid': 73.0, 'pm': 17.87, 'rain': 43.0, 'gas': 65.0, 'light': 154.0}\n"
     ]
    },
    {
     "name": "stderr",
     "output_type": "stream",
     "text": [
      "220.68.27.103 - - [13/Jun/2024 12:39:54] \"GET /environment HTTP/1.1\" 200 -\n",
      "220.68.27.64 - - [13/Jun/2024 12:39:54] \"GET /window_status HTTP/1.1\" 200 -\n",
      "220.68.27.64 - - [13/Jun/2024 12:39:54] \"POST /api HTTP/1.1\" 200 -\n",
      "220.68.27.64 - - [13/Jun/2024 12:39:54] \"POST /environment HTTP/1.1\" 405 -\n"
     ]
    },
    {
     "name": "stdout",
     "output_type": "stream",
     "text": [
      "{'temp': 26.2, 'humid': 73.0, 'pm': 12.89, 'rain': 44.0, 'gas': 65.0, 'light': 154.0}\n"
     ]
    },
    {
     "name": "stderr",
     "output_type": "stream",
     "text": [
      "220.68.27.103 - - [13/Jun/2024 12:39:59] \"GET /environment HTTP/1.1\" 200 -\n",
      "220.68.27.64 - - [13/Jun/2024 12:39:59] \"GET /window_status HTTP/1.1\" 200 -\n",
      "220.68.27.64 - - [13/Jun/2024 12:39:59] \"POST /api HTTP/1.1\" 200 -\n",
      "220.68.27.64 - - [13/Jun/2024 12:39:59] \"POST /environment HTTP/1.1\" 405 -\n"
     ]
    },
    {
     "name": "stdout",
     "output_type": "stream",
     "text": [
      "{'temp': 26.2, 'humid': 73.0, 'pm': 12.06, 'rain': 43.0, 'gas': 64.0, 'light': 161.0}\n"
     ]
    },
    {
     "name": "stderr",
     "output_type": "stream",
     "text": [
      "220.68.27.103 - - [13/Jun/2024 12:40:04] \"GET /environment HTTP/1.1\" 200 -\n",
      "220.68.27.64 - - [13/Jun/2024 12:40:04] \"GET /window_status HTTP/1.1\" 200 -\n",
      "220.68.27.64 - - [13/Jun/2024 12:40:05] \"POST /api HTTP/1.1\" 200 -\n",
      "220.68.27.64 - - [13/Jun/2024 12:40:05] \"POST /environment HTTP/1.1\" 405 -\n"
     ]
    },
    {
     "name": "stdout",
     "output_type": "stream",
     "text": [
      "{'temp': 26.2, 'humid': 73.0, 'pm': 29.49, 'rain': 43.0, 'gas': 65.0, 'light': 164.0}\n"
     ]
    },
    {
     "name": "stderr",
     "output_type": "stream",
     "text": [
      "220.68.27.103 - - [13/Jun/2024 12:40:09] \"GET /environment HTTP/1.1\" 200 -\n",
      "220.68.27.64 - - [13/Jun/2024 12:40:10] \"GET /window_status HTTP/1.1\" 200 -\n",
      "220.68.27.64 - - [13/Jun/2024 12:40:10] \"POST /api HTTP/1.1\" 200 -\n",
      "220.68.27.64 - - [13/Jun/2024 12:40:10] \"POST /environment HTTP/1.1\" 405 -\n"
     ]
    },
    {
     "name": "stdout",
     "output_type": "stream",
     "text": [
      "{'temp': 26.2, 'humid': 73.0, 'pm': 9.57, 'rain': 47.0, 'gas': 66.0, 'light': 155.0}\n"
     ]
    },
    {
     "name": "stderr",
     "output_type": "stream",
     "text": [
      "220.68.27.103 - - [13/Jun/2024 12:40:14] \"GET /environment HTTP/1.1\" 200 -\n",
      "220.68.27.64 - - [13/Jun/2024 12:40:15] \"GET /window_status HTTP/1.1\" 200 -\n",
      "220.68.27.64 - - [13/Jun/2024 12:40:15] \"POST /api HTTP/1.1\" 200 -\n",
      "220.68.27.64 - - [13/Jun/2024 12:40:15] \"POST /environment HTTP/1.1\" 405 -\n"
     ]
    },
    {
     "name": "stdout",
     "output_type": "stream",
     "text": [
      "{'temp': 26.2, 'humid': 73.0, 'pm': 6.25, 'rain': 44.0, 'gas': 65.0, 'light': 155.0}\n"
     ]
    },
    {
     "name": "stderr",
     "output_type": "stream",
     "text": [
      "220.68.27.103 - - [13/Jun/2024 12:40:19] \"GET /environment HTTP/1.1\" 200 -\n",
      "220.68.27.64 - - [13/Jun/2024 12:40:20] \"GET /window_status HTTP/1.1\" 200 -\n",
      "220.68.27.64 - - [13/Jun/2024 12:40:20] \"POST /api HTTP/1.1\" 200 -\n",
      "220.68.27.64 - - [13/Jun/2024 12:40:20] \"POST /environment HTTP/1.1\" 405 -\n"
     ]
    },
    {
     "name": "stdout",
     "output_type": "stream",
     "text": [
      "{'temp': 26.2, 'humid': 73.0, 'pm': 2.1, 'rain': 43.0, 'gas': 64.0, 'light': 157.0}\n"
     ]
    },
    {
     "name": "stderr",
     "output_type": "stream",
     "text": [
      "220.68.27.103 - - [13/Jun/2024 12:40:24] \"GET /environment HTTP/1.1\" 200 -\n",
      "220.68.27.64 - - [13/Jun/2024 12:40:25] \"GET /window_status HTTP/1.1\" 200 -\n",
      "220.68.27.64 - - [13/Jun/2024 12:40:25] \"POST /api HTTP/1.1\" 200 -\n",
      "220.68.27.64 - - [13/Jun/2024 12:40:25] \"POST /environment HTTP/1.1\" 405 -\n"
     ]
    },
    {
     "name": "stdout",
     "output_type": "stream",
     "text": [
      "{'temp': 26.2, 'humid': 73.0, 'pm': 8.74, 'rain': 43.0, 'gas': 65.0, 'light': 157.0}\n"
     ]
    },
    {
     "name": "stderr",
     "output_type": "stream",
     "text": [
      "220.68.27.103 - - [13/Jun/2024 12:40:29] \"GET /environment HTTP/1.1\" 200 -\n",
      "220.68.27.103 - - [13/Jun/2024 12:40:30] \"GET /environment HTTP/1.1\" 200 -\n",
      "220.68.27.64 - - [13/Jun/2024 12:40:30] \"GET /window_status HTTP/1.1\" 200 -\n",
      "220.68.27.64 - - [13/Jun/2024 12:40:30] \"POST /api HTTP/1.1\" 200 -\n",
      "220.68.27.64 - - [13/Jun/2024 12:40:30] \"POST /environment HTTP/1.1\" 405 -\n",
      "220.68.27.103 - - [13/Jun/2024 12:40:31] \"GET /environment HTTP/1.1\" 200 -\n"
     ]
    },
    {
     "name": "stdout",
     "output_type": "stream",
     "text": [
      "{'temp': 26.2, 'humid': 73.0, 'pm': 7.91, 'rain': 42.0, 'gas': 64.0, 'light': 155.0}\n"
     ]
    },
    {
     "name": "stderr",
     "output_type": "stream",
     "text": [
      "220.68.27.103 - - [13/Jun/2024 12:40:34] \"GET /environment HTTP/1.1\" 200 -\n",
      "220.68.27.64 - - [13/Jun/2024 12:40:35] \"GET /window_status HTTP/1.1\" 200 -\n",
      "220.68.27.64 - - [13/Jun/2024 12:40:36] \"POST /api HTTP/1.1\" 200 -\n",
      "220.68.27.64 - - [13/Jun/2024 12:40:36] \"POST /environment HTTP/1.1\" 405 -\n"
     ]
    },
    {
     "name": "stdout",
     "output_type": "stream",
     "text": [
      "{'temp': 26.2, 'humid': 72.0, 'pm': 7.91, 'rain': 42.0, 'gas': 64.0, 'light': 154.0}\n"
     ]
    },
    {
     "name": "stderr",
     "output_type": "stream",
     "text": [
      "220.68.27.103 - - [13/Jun/2024 12:40:39] \"GET /environment HTTP/1.1\" 200 -\n",
      "220.68.27.64 - - [13/Jun/2024 12:40:41] \"GET /window_status HTTP/1.1\" 200 -\n",
      "220.68.27.64 - - [13/Jun/2024 12:40:41] \"POST /api HTTP/1.1\" 200 -\n",
      "220.68.27.64 - - [13/Jun/2024 12:40:41] \"POST /environment HTTP/1.1\" 405 -\n"
     ]
    },
    {
     "name": "stdout",
     "output_type": "stream",
     "text": [
      "{'temp': 26.2, 'humid': 72.0, 'pm': 18.7, 'rain': 42.0, 'gas': 64.0, 'light': 155.0}\n"
     ]
    },
    {
     "name": "stderr",
     "output_type": "stream",
     "text": [
      "220.68.27.103 - - [13/Jun/2024 12:40:44] \"GET /environment HTTP/1.1\" 200 -\n",
      "220.68.27.64 - - [13/Jun/2024 12:40:46] \"GET /window_status HTTP/1.1\" 200 -\n",
      "220.68.27.64 - - [13/Jun/2024 12:40:46] \"POST /api HTTP/1.1\" 200 -\n",
      "220.68.27.64 - - [13/Jun/2024 12:40:46] \"POST /environment HTTP/1.1\" 405 -\n"
     ]
    },
    {
     "name": "stdout",
     "output_type": "stream",
     "text": [
      "{'temp': 26.2, 'humid': 72.0, 'pm': 7.08, 'rain': 46.0, 'gas': 65.0, 'light': 154.0}\n"
     ]
    },
    {
     "name": "stderr",
     "output_type": "stream",
     "text": [
      "220.68.27.103 - - [13/Jun/2024 12:40:49] \"GET /environment HTTP/1.1\" 200 -\n",
      "220.68.27.64 - - [13/Jun/2024 12:40:51] \"GET /window_status HTTP/1.1\" 200 -\n",
      "220.68.27.64 - - [13/Jun/2024 12:40:51] \"POST /api HTTP/1.1\" 200 -\n",
      "220.68.27.64 - - [13/Jun/2024 12:40:51] \"POST /environment HTTP/1.1\" 405 -\n"
     ]
    },
    {
     "name": "stdout",
     "output_type": "stream",
     "text": [
      "{'temp': 26.2, 'humid': 72.0, 'pm': 16.21, 'rain': 45.0, 'gas': 65.0, 'light': 154.0}\n"
     ]
    },
    {
     "name": "stderr",
     "output_type": "stream",
     "text": [
      "220.68.27.103 - - [13/Jun/2024 12:40:54] \"GET /environment HTTP/1.1\" 200 -\n",
      "220.68.27.64 - - [13/Jun/2024 12:40:56] \"GET /window_status HTTP/1.1\" 200 -\n",
      "220.68.27.64 - - [13/Jun/2024 12:40:56] \"POST /api HTTP/1.1\" 200 -\n",
      "220.68.27.64 - - [13/Jun/2024 12:40:56] \"POST /environment HTTP/1.1\" 405 -\n"
     ]
    },
    {
     "name": "stdout",
     "output_type": "stream",
     "text": [
      "{'temp': 26.2, 'humid': 72.0, 'pm': 1.27, 'rain': 42.0, 'gas': 64.0, 'light': 155.0}\n"
     ]
    },
    {
     "name": "stderr",
     "output_type": "stream",
     "text": [
      "220.68.27.103 - - [13/Jun/2024 12:40:59] \"GET /environment HTTP/1.1\" 200 -\n",
      "220.68.27.64 - - [13/Jun/2024 12:41:01] \"GET /window_status HTTP/1.1\" 200 -\n",
      "220.68.27.64 - - [13/Jun/2024 12:41:01] \"POST /api HTTP/1.1\" 200 -\n",
      "220.68.27.64 - - [13/Jun/2024 12:41:02] \"POST /environment HTTP/1.1\" 405 -\n"
     ]
    },
    {
     "name": "stdout",
     "output_type": "stream",
     "text": [
      "{'temp': 26.2, 'humid': 72.0, 'pm': 24.51, 'rain': 42.0, 'gas': 64.0, 'light': 156.0}\n"
     ]
    },
    {
     "name": "stderr",
     "output_type": "stream",
     "text": [
      "220.68.27.103 - - [13/Jun/2024 12:41:04] \"GET /environment HTTP/1.1\" 200 -\n",
      "220.68.27.64 - - [13/Jun/2024 12:41:07] \"GET /window_status HTTP/1.1\" 200 -\n",
      "220.68.27.64 - - [13/Jun/2024 12:41:07] \"POST /api HTTP/1.1\" 200 -\n",
      "220.68.27.64 - - [13/Jun/2024 12:41:07] \"POST /environment HTTP/1.1\" 405 -\n"
     ]
    },
    {
     "name": "stdout",
     "output_type": "stream",
     "text": [
      "{'temp': 26.2, 'humid': 72.0, 'pm': 6.25, 'rain': 42.0, 'gas': 64.0, 'light': 154.0}\n"
     ]
    },
    {
     "name": "stderr",
     "output_type": "stream",
     "text": [
      "220.68.27.103 - - [13/Jun/2024 12:41:09] \"GET /environment HTTP/1.1\" 200 -\n",
      "220.68.27.64 - - [13/Jun/2024 12:41:12] \"GET /window_status HTTP/1.1\" 200 -\n",
      "220.68.27.64 - - [13/Jun/2024 12:41:12] \"POST /api HTTP/1.1\" 200 -\n",
      "220.68.27.64 - - [13/Jun/2024 12:41:12] \"POST /environment HTTP/1.1\" 405 -\n"
     ]
    },
    {
     "name": "stdout",
     "output_type": "stream",
     "text": [
      "{'temp': 26.2, 'humid': 72.0, 'pm': 12.06, 'rain': 42.0, 'gas': 64.0, 'light': 155.0}\n"
     ]
    },
    {
     "name": "stderr",
     "output_type": "stream",
     "text": [
      "220.68.27.103 - - [13/Jun/2024 12:41:14] \"GET /environment HTTP/1.1\" 200 -\n",
      "220.68.27.64 - - [13/Jun/2024 12:41:17] \"GET /window_status HTTP/1.1\" 200 -\n",
      "220.68.27.64 - - [13/Jun/2024 12:41:17] \"POST /api HTTP/1.1\" 200 -\n",
      "220.68.27.64 - - [13/Jun/2024 12:41:17] \"POST /environment HTTP/1.1\" 405 -\n"
     ]
    },
    {
     "name": "stdout",
     "output_type": "stream",
     "text": [
      "{'temp': 26.2, 'humid': 72.0, 'pm': 7.08, 'rain': 43.0, 'gas': 65.0, 'light': 160.0}\n"
     ]
    },
    {
     "name": "stderr",
     "output_type": "stream",
     "text": [
      "220.68.27.103 - - [13/Jun/2024 12:41:19] \"GET /environment HTTP/1.1\" 200 -\n",
      "220.68.27.64 - - [13/Jun/2024 12:41:22] \"GET /window_status HTTP/1.1\" 200 -\n",
      "220.68.27.64 - - [13/Jun/2024 12:41:22] \"POST /api HTTP/1.1\" 200 -\n",
      "220.68.27.64 - - [13/Jun/2024 12:41:22] \"POST /environment HTTP/1.1\" 405 -\n"
     ]
    },
    {
     "name": "stdout",
     "output_type": "stream",
     "text": [
      "{'temp': 26.2, 'humid': 71.0, 'pm': 0.44, 'rain': 50.0, 'gas': 74.0, 'light': 160.0}\n"
     ]
    },
    {
     "name": "stderr",
     "output_type": "stream",
     "text": [
      "220.68.27.103 - - [13/Jun/2024 12:41:24] \"GET /environment HTTP/1.1\" 200 -\n",
      "220.68.27.64 - - [13/Jun/2024 12:41:27] \"GET /window_status HTTP/1.1\" 200 -\n",
      "220.68.27.64 - - [13/Jun/2024 12:41:27] \"POST /api HTTP/1.1\" 200 -\n",
      "220.68.27.64 - - [13/Jun/2024 12:41:27] \"POST /environment HTTP/1.1\" 405 -\n"
     ]
    },
    {
     "name": "stdout",
     "output_type": "stream",
     "text": [
      "{'temp': 26.2, 'humid': 71.0, 'pm': 15.38, 'rain': 55.0, 'gas': 73.0, 'light': 161.0}\n"
     ]
    },
    {
     "name": "stderr",
     "output_type": "stream",
     "text": [
      "220.68.27.103 - - [13/Jun/2024 12:41:29] \"GET /environment HTTP/1.1\" 200 -\n",
      "220.68.27.103 - - [13/Jun/2024 12:41:31] \"GET /environment HTTP/1.1\" 200 -\n",
      "220.68.27.103 - - [13/Jun/2024 12:41:31] \"GET /environment HTTP/1.1\" 200 -\n",
      "220.68.27.64 - - [13/Jun/2024 12:41:32] \"GET /window_status HTTP/1.1\" 200 -\n",
      "220.68.27.64 - - [13/Jun/2024 12:41:33] \"POST /api HTTP/1.1\" 200 -\n",
      "220.68.27.64 - - [13/Jun/2024 12:41:33] \"POST /environment HTTP/1.1\" 405 -\n"
     ]
    },
    {
     "name": "stdout",
     "output_type": "stream",
     "text": [
      "{'temp': 26.2, 'humid': 71.0, 'pm': 22.85, 'rain': 49.0, 'gas': 70.0, 'light': 161.0}\n"
     ]
    },
    {
     "name": "stderr",
     "output_type": "stream",
     "text": [
      "220.68.27.103 - - [13/Jun/2024 12:41:34] \"GET /environment HTTP/1.1\" 200 -\n",
      "220.68.27.64 - - [13/Jun/2024 12:41:38] \"GET /window_status HTTP/1.1\" 200 -\n",
      "220.68.27.64 - - [13/Jun/2024 12:41:38] \"POST /api HTTP/1.1\" 200 -\n",
      "220.68.27.64 - - [13/Jun/2024 12:41:38] \"POST /environment HTTP/1.1\" 405 -\n"
     ]
    },
    {
     "name": "stdout",
     "output_type": "stream",
     "text": [
      "{'temp': 26.2, 'humid': 71.0, 'pm': 14.55, 'rain': 49.0, 'gas': 69.0, 'light': 158.0}\n"
     ]
    },
    {
     "name": "stderr",
     "output_type": "stream",
     "text": [
      "220.68.27.103 - - [13/Jun/2024 12:41:39] \"GET /environment HTTP/1.1\" 200 -\n",
      "220.68.27.64 - - [13/Jun/2024 12:41:43] \"GET /window_status HTTP/1.1\" 200 -\n",
      "220.68.27.64 - - [13/Jun/2024 12:41:43] \"POST /api HTTP/1.1\" 200 -\n",
      "220.68.27.64 - - [13/Jun/2024 12:41:43] \"POST /environment HTTP/1.1\" 405 -\n"
     ]
    },
    {
     "name": "stdout",
     "output_type": "stream",
     "text": [
      "{'temp': 26.2, 'humid': 71.0, 'pm': 15.38, 'rain': 50.0, 'gas': 69.0, 'light': 158.0}\n"
     ]
    },
    {
     "name": "stderr",
     "output_type": "stream",
     "text": [
      "220.68.27.103 - - [13/Jun/2024 12:41:44] \"GET /environment HTTP/1.1\" 200 -\n",
      "220.68.27.64 - - [13/Jun/2024 12:41:48] \"GET /window_status HTTP/1.1\" 200 -\n",
      "220.68.27.64 - - [13/Jun/2024 12:41:48] \"POST /api HTTP/1.1\" 200 -\n",
      "220.68.27.64 - - [13/Jun/2024 12:41:48] \"POST /environment HTTP/1.1\" 405 -\n"
     ]
    },
    {
     "name": "stdout",
     "output_type": "stream",
     "text": [
      "{'temp': 26.2, 'humid': 71.0, 'pm': 12.06, 'rain': 47.0, 'gas': 69.0, 'light': 160.0}\n"
     ]
    },
    {
     "name": "stderr",
     "output_type": "stream",
     "text": [
      "220.68.27.103 - - [13/Jun/2024 12:41:49] \"GET /environment HTTP/1.1\" 200 -\n",
      "220.68.27.64 - - [13/Jun/2024 12:41:53] \"GET /window_status HTTP/1.1\" 200 -\n",
      "220.68.27.64 - - [13/Jun/2024 12:41:53] \"POST /api HTTP/1.1\" 200 -\n",
      "220.68.27.64 - - [13/Jun/2024 12:41:53] \"POST /environment HTTP/1.1\" 405 -\n"
     ]
    },
    {
     "name": "stdout",
     "output_type": "stream",
     "text": [
      "{'temp': 26.2, 'humid': 71.0, 'pm': 12.06, 'rain': 47.0, 'gas': 68.0, 'light': 156.0}\n"
     ]
    },
    {
     "name": "stderr",
     "output_type": "stream",
     "text": [
      "220.68.27.103 - - [13/Jun/2024 12:41:54] \"GET /environment HTTP/1.1\" 200 -\n",
      "220.68.27.64 - - [13/Jun/2024 12:41:58] \"GET /window_status HTTP/1.1\" 200 -\n",
      "220.68.27.64 - - [13/Jun/2024 12:41:58] \"POST /api HTTP/1.1\" 200 -\n",
      "220.68.27.64 - - [13/Jun/2024 12:41:58] \"POST /environment HTTP/1.1\" 405 -\n",
      "220.68.27.103 - - [13/Jun/2024 12:41:59] \"GET /environment HTTP/1.1\" 200 -\n"
     ]
    },
    {
     "name": "stdout",
     "output_type": "stream",
     "text": [
      "{'temp': 26.2, 'humid': 71.0, 'pm': 12.89, 'rain': 47.0, 'gas': 67.0, 'light': 155.0}\n"
     ]
    },
    {
     "name": "stderr",
     "output_type": "stream",
     "text": [
      "220.68.27.64 - - [13/Jun/2024 12:42:04] \"GET /window_status HTTP/1.1\" 200 -\n",
      "220.68.27.103 - - [13/Jun/2024 12:42:04] \"GET /environment HTTP/1.1\" 200 -\n",
      "220.68.27.64 - - [13/Jun/2024 12:42:04] \"POST /api HTTP/1.1\" 200 -\n",
      "220.68.27.64 - - [13/Jun/2024 12:42:04] \"POST /environment HTTP/1.1\" 405 -\n"
     ]
    },
    {
     "name": "stdout",
     "output_type": "stream",
     "text": [
      "{'temp': 26.2, 'humid': 71.0, 'pm': 7.91, 'rain': 46.0, 'gas': 69.0, 'light': 160.0}\n"
     ]
    },
    {
     "name": "stderr",
     "output_type": "stream",
     "text": [
      "220.68.27.103 - - [13/Jun/2024 12:42:09] \"GET /environment HTTP/1.1\" 200 -\n",
      "220.68.27.64 - - [13/Jun/2024 12:42:09] \"GET /window_status HTTP/1.1\" 200 -\n",
      "220.68.27.64 - - [13/Jun/2024 12:42:09] \"POST /api HTTP/1.1\" 200 -\n",
      "220.68.27.64 - - [13/Jun/2024 12:42:09] \"POST /environment HTTP/1.1\" 405 -\n"
     ]
    },
    {
     "name": "stdout",
     "output_type": "stream",
     "text": [
      "{'temp': 26.2, 'humid': 71.0, 'pm': 22.02, 'rain': 49.0, 'gas': 71.0, 'light': 156.0}\n"
     ]
    },
    {
     "name": "stderr",
     "output_type": "stream",
     "text": [
      "220.68.27.103 - - [13/Jun/2024 12:42:14] \"GET /environment HTTP/1.1\" 200 -\n",
      "220.68.27.64 - - [13/Jun/2024 12:42:14] \"GET /window_status HTTP/1.1\" 200 -\n",
      "220.68.27.64 - - [13/Jun/2024 12:42:14] \"POST /api HTTP/1.1\" 200 -\n",
      "220.68.27.64 - - [13/Jun/2024 12:42:14] \"POST /environment HTTP/1.1\" 405 -\n"
     ]
    },
    {
     "name": "stdout",
     "output_type": "stream",
     "text": [
      "{'temp': 26.2, 'humid': 71.0, 'pm': 16.21, 'rain': 45.0, 'gas': 66.0, 'light': 155.0}\n"
     ]
    },
    {
     "name": "stderr",
     "output_type": "stream",
     "text": [
      "220.68.27.103 - - [13/Jun/2024 12:42:19] \"GET /environment HTTP/1.1\" 200 -\n",
      "220.68.27.64 - - [13/Jun/2024 12:42:19] \"GET /window_status HTTP/1.1\" 200 -\n",
      "220.68.27.64 - - [13/Jun/2024 12:42:19] \"POST /api HTTP/1.1\" 200 -\n",
      "220.68.27.64 - - [13/Jun/2024 12:42:19] \"POST /environment HTTP/1.1\" 405 -\n"
     ]
    },
    {
     "name": "stdout",
     "output_type": "stream",
     "text": [
      "{'temp': 26.2, 'humid': 71.0, 'pm': 6.25, 'rain': 45.0, 'gas': 66.0, 'light': 154.0}\n"
     ]
    },
    {
     "name": "stderr",
     "output_type": "stream",
     "text": [
      "220.68.27.103 - - [13/Jun/2024 12:42:24] \"GET /environment HTTP/1.1\" 200 -\n",
      "220.68.27.64 - - [13/Jun/2024 12:42:24] \"GET /window_status HTTP/1.1\" 200 -\n",
      "220.68.27.64 - - [13/Jun/2024 12:42:24] \"POST /api HTTP/1.1\" 200 -\n",
      "220.68.27.64 - - [13/Jun/2024 12:42:24] \"POST /environment HTTP/1.1\" 405 -\n"
     ]
    },
    {
     "name": "stdout",
     "output_type": "stream",
     "text": [
      "{'temp': 26.2, 'humid': 71.0, 'pm': 10.4, 'rain': 45.0, 'gas': 66.0, 'light': 155.0}\n"
     ]
    },
    {
     "name": "stderr",
     "output_type": "stream",
     "text": [
      "220.68.27.103 - - [13/Jun/2024 12:42:29] \"GET /environment HTTP/1.1\" 200 -\n",
      "220.68.27.64 - - [13/Jun/2024 12:42:29] \"GET /window_status HTTP/1.1\" 200 -\n",
      "220.68.27.64 - - [13/Jun/2024 12:42:30] \"POST /api HTTP/1.1\" 200 -\n",
      "220.68.27.64 - - [13/Jun/2024 12:42:30] \"POST /environment HTTP/1.1\" 405 -\n"
     ]
    },
    {
     "name": "stdout",
     "output_type": "stream",
     "text": [
      "{'temp': 26.2, 'humid': 71.0, 'pm': 6.25, 'rain': 47.0, 'gas': 67.0, 'light': 155.0}\n"
     ]
    },
    {
     "name": "stderr",
     "output_type": "stream",
     "text": [
      "220.68.27.103 - - [13/Jun/2024 12:42:31] \"GET /environment HTTP/1.1\" 200 -\n",
      "220.68.27.103 - - [13/Jun/2024 12:42:31] \"GET /environment HTTP/1.1\" 200 -\n",
      "220.68.27.103 - - [13/Jun/2024 12:42:34] \"GET /environment HTTP/1.1\" 200 -\n",
      "220.68.27.64 - - [13/Jun/2024 12:42:35] \"GET /window_status HTTP/1.1\" 200 -\n",
      "220.68.27.64 - - [13/Jun/2024 12:42:35] \"POST /api HTTP/1.1\" 200 -\n",
      "220.68.27.64 - - [13/Jun/2024 12:42:35] \"POST /environment HTTP/1.1\" 405 -\n"
     ]
    },
    {
     "name": "stdout",
     "output_type": "stream",
     "text": [
      "{'temp': 26.2, 'humid': 71.0, 'pm': 1.27, 'rain': 45.0, 'gas': 66.0, 'light': 155.0}\n"
     ]
    },
    {
     "name": "stderr",
     "output_type": "stream",
     "text": [
      "220.68.27.103 - - [13/Jun/2024 12:42:39] \"GET /environment HTTP/1.1\" 200 -\n",
      "220.68.27.64 - - [13/Jun/2024 12:42:40] \"GET /window_status HTTP/1.1\" 200 -\n",
      "220.68.27.64 - - [13/Jun/2024 12:42:40] \"POST /api HTTP/1.1\" 200 -\n",
      "220.68.27.64 - - [13/Jun/2024 12:42:40] \"POST /environment HTTP/1.1\" 405 -\n"
     ]
    },
    {
     "name": "stdout",
     "output_type": "stream",
     "text": [
      "{'temp': 26.2, 'humid': 71.0, 'pm': 2.1, 'rain': 45.0, 'gas': 66.0, 'light': 154.0}\n"
     ]
    },
    {
     "name": "stderr",
     "output_type": "stream",
     "text": [
      "220.68.27.103 - - [13/Jun/2024 12:42:44] \"GET /environment HTTP/1.1\" 200 -\n",
      "220.68.27.64 - - [13/Jun/2024 12:42:45] \"GET /window_status HTTP/1.1\" 200 -\n",
      "220.68.27.64 - - [13/Jun/2024 12:42:45] \"POST /api HTTP/1.1\" 200 -\n",
      "220.68.27.64 - - [13/Jun/2024 12:42:45] \"POST /environment HTTP/1.1\" 405 -\n"
     ]
    },
    {
     "name": "stdout",
     "output_type": "stream",
     "text": [
      "{'temp': 26.2, 'humid': 71.0, 'pm': 5.42, 'rain': 45.0, 'gas': 66.0, 'light': 154.0}\n"
     ]
    },
    {
     "name": "stderr",
     "output_type": "stream",
     "text": [
      "220.68.27.103 - - [13/Jun/2024 12:42:49] \"GET /environment HTTP/1.1\" 200 -\n",
      "220.68.27.64 - - [13/Jun/2024 12:42:50] \"GET /window_status HTTP/1.1\" 200 -\n",
      "220.68.27.64 - - [13/Jun/2024 12:42:50] \"POST /api HTTP/1.1\" 200 -\n",
      "220.68.27.64 - - [13/Jun/2024 12:42:50] \"POST /environment HTTP/1.1\" 405 -\n"
     ]
    },
    {
     "name": "stdout",
     "output_type": "stream",
     "text": [
      "{'temp': 26.2, 'humid': 72.0, 'pm': 17.04, 'rain': 45.0, 'gas': 65.0, 'light': 154.0}\n"
     ]
    },
    {
     "name": "stderr",
     "output_type": "stream",
     "text": [
      "220.68.27.103 - - [13/Jun/2024 12:42:54] \"GET /environment HTTP/1.1\" 200 -\n",
      "220.68.27.64 - - [13/Jun/2024 12:42:55] \"GET /window_status HTTP/1.1\" 200 -\n",
      "220.68.27.64 - - [13/Jun/2024 12:42:55] \"POST /api HTTP/1.1\" 200 -\n",
      "220.68.27.64 - - [13/Jun/2024 12:42:55] \"POST /environment HTTP/1.1\" 405 -\n"
     ]
    },
    {
     "name": "stdout",
     "output_type": "stream",
     "text": [
      "{'temp': 26.2, 'humid': 72.0, 'pm': 6.25, 'rain': 46.0, 'gas': 66.0, 'light': 154.0}\n"
     ]
    },
    {
     "name": "stderr",
     "output_type": "stream",
     "text": [
      "220.68.27.103 - - [13/Jun/2024 12:42:59] \"GET /environment HTTP/1.1\" 200 -\n",
      "220.68.27.64 - - [13/Jun/2024 12:43:01] \"GET /window_status HTTP/1.1\" 200 -\n",
      "220.68.27.64 - - [13/Jun/2024 12:43:01] \"POST /api HTTP/1.1\" 200 -\n",
      "220.68.27.64 - - [13/Jun/2024 12:43:01] \"POST /environment HTTP/1.1\" 405 -\n"
     ]
    },
    {
     "name": "stdout",
     "output_type": "stream",
     "text": [
      "{'temp': 26.2, 'humid': 72.0, 'pm': 12.06, 'rain': 46.0, 'gas': 66.0, 'light': 154.0}\n"
     ]
    },
    {
     "name": "stderr",
     "output_type": "stream",
     "text": [
      "220.68.27.103 - - [13/Jun/2024 12:43:04] \"GET /environment HTTP/1.1\" 200 -\n",
      "220.68.27.64 - - [13/Jun/2024 12:43:06] \"GET /window_status HTTP/1.1\" 200 -\n",
      "220.68.27.64 - - [13/Jun/2024 12:43:06] \"POST /api HTTP/1.1\" 200 -\n",
      "220.68.27.64 - - [13/Jun/2024 12:43:06] \"POST /environment HTTP/1.1\" 405 -\n"
     ]
    },
    {
     "name": "stdout",
     "output_type": "stream",
     "text": [
      "{'temp': 26.2, 'humid': 72.0, 'pm': 12.89, 'rain': 44.0, 'gas': 65.0, 'light': 154.0}\n"
     ]
    },
    {
     "name": "stderr",
     "output_type": "stream",
     "text": [
      "220.68.27.103 - - [13/Jun/2024 12:43:09] \"GET /environment HTTP/1.1\" 200 -\n",
      "220.68.27.64 - - [13/Jun/2024 12:43:11] \"GET /window_status HTTP/1.1\" 200 -\n",
      "220.68.27.64 - - [13/Jun/2024 12:43:11] \"POST /api HTTP/1.1\" 200 -\n",
      "220.68.27.64 - - [13/Jun/2024 12:43:11] \"POST /environment HTTP/1.1\" 405 -\n"
     ]
    },
    {
     "name": "stdout",
     "output_type": "stream",
     "text": [
      "{'temp': 26.2, 'humid': 72.0, 'pm': 6.25, 'rain': 45.0, 'gas': 65.0, 'light': 154.0}\n"
     ]
    },
    {
     "name": "stderr",
     "output_type": "stream",
     "text": [
      "220.68.27.103 - - [13/Jun/2024 12:43:14] \"GET /environment HTTP/1.1\" 200 -\n",
      "220.68.27.64 - - [13/Jun/2024 12:43:16] \"GET /window_status HTTP/1.1\" 200 -\n",
      "220.68.27.64 - - [13/Jun/2024 12:43:16] \"POST /api HTTP/1.1\" 200 -\n",
      "220.68.27.64 - - [13/Jun/2024 12:43:16] \"POST /environment HTTP/1.1\" 405 -\n"
     ]
    },
    {
     "name": "stdout",
     "output_type": "stream",
     "text": [
      "{'temp': 26.2, 'humid': 72.0, 'pm': 3.76, 'rain': 45.0, 'gas': 66.0, 'light': 155.0}\n"
     ]
    },
    {
     "name": "stderr",
     "output_type": "stream",
     "text": [
      "220.68.27.103 - - [13/Jun/2024 12:43:19] \"GET /environment HTTP/1.1\" 200 -\n",
      "220.68.27.64 - - [13/Jun/2024 12:43:21] \"GET /window_status HTTP/1.1\" 200 -\n",
      "220.68.27.64 - - [13/Jun/2024 12:43:21] \"POST /api HTTP/1.1\" 200 -\n",
      "220.68.27.64 - - [13/Jun/2024 12:43:21] \"POST /environment HTTP/1.1\" 405 -\n"
     ]
    },
    {
     "name": "stdout",
     "output_type": "stream",
     "text": [
      "{'temp': 26.2, 'humid': 72.0, 'pm': 2.93, 'rain': 44.0, 'gas': 66.0, 'light': 154.0}\n"
     ]
    },
    {
     "name": "stderr",
     "output_type": "stream",
     "text": [
      "220.68.27.103 - - [13/Jun/2024 12:43:24] \"GET /environment HTTP/1.1\" 200 -\n",
      "220.68.27.64 - - [13/Jun/2024 12:43:26] \"GET /window_status HTTP/1.1\" 200 -\n",
      "220.68.27.64 - - [13/Jun/2024 12:43:27] \"POST /api HTTP/1.1\" 200 -\n",
      "220.68.27.64 - - [13/Jun/2024 12:43:27] \"POST /environment HTTP/1.1\" 405 -\n"
     ]
    },
    {
     "name": "stdout",
     "output_type": "stream",
     "text": [
      "{'temp': 26.2, 'humid': 72.0, 'pm': 8.74, 'rain': 45.0, 'gas': 66.0, 'light': 154.0}\n"
     ]
    },
    {
     "name": "stderr",
     "output_type": "stream",
     "text": [
      "220.68.27.103 - - [13/Jun/2024 12:43:29] \"GET /environment HTTP/1.1\" 200 -\n",
      "220.68.27.103 - - [13/Jun/2024 12:43:31] \"GET /environment HTTP/1.1\" 200 -\n",
      "220.68.27.103 - - [13/Jun/2024 12:43:31] \"GET /environment HTTP/1.1\" 200 -\n",
      "220.68.27.64 - - [13/Jun/2024 12:43:32] \"GET /window_status HTTP/1.1\" 200 -\n",
      "220.68.27.64 - - [13/Jun/2024 12:43:32] \"POST /api HTTP/1.1\" 200 -\n",
      "220.68.27.64 - - [13/Jun/2024 12:43:32] \"POST /environment HTTP/1.1\" 405 -\n"
     ]
    },
    {
     "name": "stdout",
     "output_type": "stream",
     "text": [
      "{'temp': 26.2, 'humid': 72.0, 'pm': 7.08, 'rain': 45.0, 'gas': 65.0, 'light': 154.0}\n"
     ]
    },
    {
     "name": "stderr",
     "output_type": "stream",
     "text": [
      "220.68.27.103 - - [13/Jun/2024 12:43:34] \"GET /environment HTTP/1.1\" 200 -\n",
      "220.68.27.64 - - [13/Jun/2024 12:43:37] \"GET /window_status HTTP/1.1\" 200 -\n",
      "220.68.27.64 - - [13/Jun/2024 12:43:37] \"POST /api HTTP/1.1\" 200 -\n",
      "220.68.27.64 - - [13/Jun/2024 12:43:37] \"POST /environment HTTP/1.1\" 405 -\n"
     ]
    },
    {
     "name": "stdout",
     "output_type": "stream",
     "text": [
      "{'temp': 26.2, 'humid': 72.0, 'pm': 8.74, 'rain': 44.0, 'gas': 65.0, 'light': 154.0}\n"
     ]
    },
    {
     "name": "stderr",
     "output_type": "stream",
     "text": [
      "220.68.27.103 - - [13/Jun/2024 12:43:39] \"GET /environment HTTP/1.1\" 200 -\n",
      "220.68.27.64 - - [13/Jun/2024 12:43:42] \"GET /window_status HTTP/1.1\" 200 -\n",
      "220.68.27.64 - - [13/Jun/2024 12:43:42] \"POST /api HTTP/1.1\" 200 -\n",
      "220.68.27.64 - - [13/Jun/2024 12:43:42] \"POST /environment HTTP/1.1\" 405 -\n"
     ]
    },
    {
     "name": "stdout",
     "output_type": "stream",
     "text": [
      "{'temp': 26.2, 'humid': 72.0, 'pm': 13.72, 'rain': 44.0, 'gas': 65.0, 'light': 154.0}\n"
     ]
    },
    {
     "name": "stderr",
     "output_type": "stream",
     "text": [
      "220.68.27.103 - - [13/Jun/2024 12:43:44] \"GET /environment HTTP/1.1\" 200 -\n",
      "220.68.27.64 - - [13/Jun/2024 12:43:47] \"GET /window_status HTTP/1.1\" 200 -\n",
      "220.68.27.64 - - [13/Jun/2024 12:43:47] \"POST /api HTTP/1.1\" 200 -\n",
      "220.68.27.64 - - [13/Jun/2024 12:43:47] \"POST /environment HTTP/1.1\" 405 -\n"
     ]
    },
    {
     "name": "stdout",
     "output_type": "stream",
     "text": [
      "{'temp': 26.2, 'humid': 72.0, 'pm': 11.23, 'rain': 46.0, 'gas': 70.0, 'light': 156.0}\n"
     ]
    },
    {
     "name": "stderr",
     "output_type": "stream",
     "text": [
      "220.68.27.103 - - [13/Jun/2024 12:43:49] \"GET /environment HTTP/1.1\" 200 -\n",
      "220.68.27.64 - - [13/Jun/2024 12:43:52] \"GET /window_status HTTP/1.1\" 200 -\n",
      "220.68.27.64 - - [13/Jun/2024 12:43:52] \"POST /api HTTP/1.1\" 200 -\n",
      "220.68.27.64 - - [13/Jun/2024 12:43:52] \"POST /environment HTTP/1.1\" 405 -\n"
     ]
    },
    {
     "name": "stdout",
     "output_type": "stream",
     "text": [
      "{'temp': 26.2, 'humid': 72.0, 'pm': 8.74, 'rain': 44.0, 'gas': 65.0, 'light': 154.0}\n"
     ]
    },
    {
     "name": "stderr",
     "output_type": "stream",
     "text": [
      "220.68.27.103 - - [13/Jun/2024 12:43:54] \"GET /environment HTTP/1.1\" 200 -\n",
      "220.68.27.64 - - [13/Jun/2024 12:43:57] \"GET /window_status HTTP/1.1\" 200 -\n",
      "220.68.27.64 - - [13/Jun/2024 12:43:58] \"POST /api HTTP/1.1\" 200 -\n",
      "220.68.27.64 - - [13/Jun/2024 12:43:58] \"POST /environment HTTP/1.1\" 405 -\n"
     ]
    },
    {
     "name": "stdout",
     "output_type": "stream",
     "text": [
      "{'temp': 26.2, 'humid': 73.0, 'pm': 6.25, 'rain': 43.0, 'gas': 65.0, 'light': 154.0}\n"
     ]
    },
    {
     "name": "stderr",
     "output_type": "stream",
     "text": [
      "220.68.27.103 - - [13/Jun/2024 12:43:59] \"GET /environment HTTP/1.1\" 200 -\n",
      "220.68.27.64 - - [13/Jun/2024 12:44:03] \"GET /window_status HTTP/1.1\" 200 -\n",
      "220.68.27.64 - - [13/Jun/2024 12:44:03] \"POST /api HTTP/1.1\" 200 -\n",
      "220.68.27.64 - - [13/Jun/2024 12:44:03] \"POST /environment HTTP/1.1\" 405 -\n"
     ]
    },
    {
     "name": "stdout",
     "output_type": "stream",
     "text": [
      "{'temp': 26.2, 'humid': 73.0, 'pm': 9.57, 'rain': 44.0, 'gas': 65.0, 'light': 153.0}\n"
     ]
    },
    {
     "name": "stderr",
     "output_type": "stream",
     "text": [
      "220.68.27.103 - - [13/Jun/2024 12:44:04] \"GET /environment HTTP/1.1\" 200 -\n",
      "220.68.27.64 - - [13/Jun/2024 12:44:08] \"GET /window_status HTTP/1.1\" 200 -\n",
      "220.68.27.64 - - [13/Jun/2024 12:44:08] \"POST /api HTTP/1.1\" 200 -\n",
      "220.68.27.64 - - [13/Jun/2024 12:44:08] \"POST /environment HTTP/1.1\" 405 -\n"
     ]
    },
    {
     "name": "stdout",
     "output_type": "stream",
     "text": [
      "{'temp': 26.2, 'humid': 73.0, 'pm': 10.4, 'rain': 44.0, 'gas': 65.0, 'light': 157.0}\n"
     ]
    },
    {
     "name": "stderr",
     "output_type": "stream",
     "text": [
      "220.68.27.103 - - [13/Jun/2024 12:44:09] \"GET /environment HTTP/1.1\" 200 -\n",
      "220.68.27.64 - - [13/Jun/2024 12:44:13] \"GET /window_status HTTP/1.1\" 200 -\n",
      "220.68.27.64 - - [13/Jun/2024 12:44:13] \"POST /api HTTP/1.1\" 200 -\n",
      "220.68.27.64 - - [13/Jun/2024 12:44:13] \"POST /environment HTTP/1.1\" 405 -\n"
     ]
    },
    {
     "name": "stdout",
     "output_type": "stream",
     "text": [
      "{'temp': 26.2, 'humid': 73.0, 'pm': 15.38, 'rain': 44.0, 'gas': 65.0, 'light': 153.0}\n"
     ]
    },
    {
     "name": "stderr",
     "output_type": "stream",
     "text": [
      "220.68.27.103 - - [13/Jun/2024 12:44:14] \"GET /environment HTTP/1.1\" 200 -\n",
      "220.68.27.64 - - [13/Jun/2024 12:44:18] \"GET /window_status HTTP/1.1\" 200 -\n",
      "220.68.27.64 - - [13/Jun/2024 12:44:18] \"POST /api HTTP/1.1\" 200 -\n",
      "220.68.27.64 - - [13/Jun/2024 12:44:18] \"POST /environment HTTP/1.1\" 405 -\n"
     ]
    },
    {
     "name": "stdout",
     "output_type": "stream",
     "text": [
      "{'temp': 26.2, 'humid': 73.0, 'pm': 7.08, 'rain': 49.0, 'gas': 67.0, 'light': 154.0}\n"
     ]
    },
    {
     "name": "stderr",
     "output_type": "stream",
     "text": [
      "220.68.27.103 - - [13/Jun/2024 12:44:19] \"GET /environment HTTP/1.1\" 200 -\n",
      "220.68.27.64 - - [13/Jun/2024 12:44:23] \"GET /window_status HTTP/1.1\" 200 -\n",
      "220.68.27.64 - - [13/Jun/2024 12:44:23] \"POST /api HTTP/1.1\" 200 -\n",
      "220.68.27.64 - - [13/Jun/2024 12:44:24] \"POST /environment HTTP/1.1\" 405 -\n",
      "220.68.27.103 - - [13/Jun/2024 12:44:24] \"GET /environment HTTP/1.1\" 200 -\n"
     ]
    },
    {
     "name": "stdout",
     "output_type": "stream",
     "text": [
      "{'temp': 26.2, 'humid': 73.0, 'pm': 9.57, 'rain': 45.0, 'gas': 65.0, 'light': 154.0}\n"
     ]
    },
    {
     "name": "stderr",
     "output_type": "stream",
     "text": [
      "220.68.27.64 - - [13/Jun/2024 12:44:29] \"GET /window_status HTTP/1.1\" 200 -\n",
      "220.68.27.103 - - [13/Jun/2024 12:44:29] \"GET /environment HTTP/1.1\" 200 -\n",
      "220.68.27.64 - - [13/Jun/2024 12:44:29] \"POST /api HTTP/1.1\" 200 -\n",
      "220.68.27.64 - - [13/Jun/2024 12:44:29] \"POST /environment HTTP/1.1\" 405 -\n"
     ]
    },
    {
     "name": "stdout",
     "output_type": "stream",
     "text": [
      "{'temp': 26.2, 'humid': 73.0, 'pm': 10.4, 'rain': 44.0, 'gas': 65.0, 'light': 154.0}\n"
     ]
    },
    {
     "name": "stderr",
     "output_type": "stream",
     "text": [
      "220.68.27.103 - - [13/Jun/2024 12:44:31] \"GET /environment HTTP/1.1\" 200 -\n",
      "220.68.27.103 - - [13/Jun/2024 12:44:31] \"GET /environment HTTP/1.1\" 200 -\n",
      "220.68.27.103 - - [13/Jun/2024 12:44:34] \"GET /environment HTTP/1.1\" 200 -\n",
      "220.68.27.64 - - [13/Jun/2024 12:44:34] \"GET /window_status HTTP/1.1\" 200 -\n",
      "220.68.27.64 - - [13/Jun/2024 12:44:34] \"POST /api HTTP/1.1\" 200 -\n",
      "220.68.27.64 - - [13/Jun/2024 12:44:34] \"POST /environment HTTP/1.1\" 405 -\n"
     ]
    },
    {
     "name": "stdout",
     "output_type": "stream",
     "text": [
      "{'temp': 26.2, 'humid': 73.0, 'pm': 0.0, 'rain': 44.0, 'gas': 68.0, 'light': 157.0}\n"
     ]
    },
    {
     "name": "stderr",
     "output_type": "stream",
     "text": [
      "220.68.27.103 - - [13/Jun/2024 12:44:39] \"GET /environment HTTP/1.1\" 200 -\n",
      "220.68.27.64 - - [13/Jun/2024 12:44:39] \"GET /window_status HTTP/1.1\" 200 -\n",
      "220.68.27.64 - - [13/Jun/2024 12:44:39] \"POST /api HTTP/1.1\" 200 -\n",
      "220.68.27.64 - - [13/Jun/2024 12:44:39] \"POST /environment HTTP/1.1\" 405 -\n"
     ]
    },
    {
     "name": "stdout",
     "output_type": "stream",
     "text": [
      "{'temp': 26.2, 'humid': 73.0, 'pm': 14.55, 'rain': 46.0, 'gas': 69.0, 'light': 155.0}\n"
     ]
    },
    {
     "name": "stderr",
     "output_type": "stream",
     "text": [
      "220.68.27.103 - - [13/Jun/2024 12:44:44] \"GET /environment HTTP/1.1\" 200 -\n",
      "220.68.27.64 - - [13/Jun/2024 12:44:44] \"GET /window_status HTTP/1.1\" 200 -\n",
      "220.68.27.64 - - [13/Jun/2024 12:44:44] \"POST /api HTTP/1.1\" 200 -\n",
      "220.68.27.64 - - [13/Jun/2024 12:44:44] \"POST /environment HTTP/1.1\" 405 -\n"
     ]
    },
    {
     "name": "stdout",
     "output_type": "stream",
     "text": [
      "{'temp': 26.2, 'humid': 73.0, 'pm': 11.23, 'rain': 44.0, 'gas': 65.0, 'light': 153.0}\n"
     ]
    },
    {
     "name": "stderr",
     "output_type": "stream",
     "text": [
      "220.68.27.103 - - [13/Jun/2024 12:44:49] \"GET /environment HTTP/1.1\" 200 -\n",
      "220.68.27.64 - - [13/Jun/2024 12:44:49] \"GET /window_status HTTP/1.1\" 200 -\n",
      "220.68.27.64 - - [13/Jun/2024 12:44:49] \"POST /api HTTP/1.1\" 200 -\n",
      "220.68.27.64 - - [13/Jun/2024 12:44:49] \"POST /environment HTTP/1.1\" 405 -\n"
     ]
    },
    {
     "name": "stdout",
     "output_type": "stream",
     "text": [
      "{'temp': 26.2, 'humid': 73.0, 'pm': 6.25, 'rain': 44.0, 'gas': 65.0, 'light': 154.0}\n"
     ]
    },
    {
     "name": "stderr",
     "output_type": "stream",
     "text": [
      "220.68.27.103 - - [13/Jun/2024 12:44:54] \"GET /environment HTTP/1.1\" 200 -\n",
      "220.68.27.64 - - [13/Jun/2024 12:44:54] \"GET /window_status HTTP/1.1\" 200 -\n",
      "220.68.27.64 - - [13/Jun/2024 12:44:55] \"POST /api HTTP/1.1\" 200 -\n",
      "220.68.27.64 - - [13/Jun/2024 12:44:55] \"POST /environment HTTP/1.1\" 405 -\n"
     ]
    },
    {
     "name": "stdout",
     "output_type": "stream",
     "text": [
      "{'temp': 26.2, 'humid': 73.0, 'pm': 5.42, 'rain': 44.0, 'gas': 65.0, 'light': 154.0}\n"
     ]
    },
    {
     "name": "stderr",
     "output_type": "stream",
     "text": [
      "220.68.27.103 - - [13/Jun/2024 12:44:59] \"GET /environment HTTP/1.1\" 200 -\n",
      "220.68.27.64 - - [13/Jun/2024 12:45:00] \"GET /window_status HTTP/1.1\" 200 -\n",
      "220.68.27.64 - - [13/Jun/2024 12:45:00] \"POST /api HTTP/1.1\" 200 -\n",
      "220.68.27.64 - - [13/Jun/2024 12:45:00] \"POST /environment HTTP/1.1\" 405 -\n"
     ]
    },
    {
     "name": "stdout",
     "output_type": "stream",
     "text": [
      "{'temp': 26.2, 'humid': 73.0, 'pm': 17.87, 'rain': 44.0, 'gas': 64.0, 'light': 154.0}\n"
     ]
    },
    {
     "name": "stderr",
     "output_type": "stream",
     "text": [
      "220.68.27.103 - - [13/Jun/2024 12:45:04] \"GET /environment HTTP/1.1\" 200 -\n",
      "220.68.27.64 - - [13/Jun/2024 12:45:05] \"GET /window_status HTTP/1.1\" 200 -\n",
      "220.68.27.64 - - [13/Jun/2024 12:45:05] \"POST /api HTTP/1.1\" 200 -\n",
      "220.68.27.64 - - [13/Jun/2024 12:45:05] \"POST /environment HTTP/1.1\" 405 -\n"
     ]
    },
    {
     "name": "stdout",
     "output_type": "stream",
     "text": [
      "{'temp': 26.2, 'humid': 73.0, 'pm': 1.27, 'rain': 47.0, 'gas': 65.0, 'light': 155.0}\n"
     ]
    },
    {
     "name": "stderr",
     "output_type": "stream",
     "text": [
      "220.68.27.103 - - [13/Jun/2024 12:45:09] \"GET /environment HTTP/1.1\" 200 -\n",
      "220.68.27.64 - - [13/Jun/2024 12:45:10] \"GET /window_status HTTP/1.1\" 200 -\n",
      "220.68.27.64 - - [13/Jun/2024 12:45:10] \"POST /api HTTP/1.1\" 200 -\n",
      "220.68.27.64 - - [13/Jun/2024 12:45:10] \"POST /environment HTTP/1.1\" 405 -\n"
     ]
    },
    {
     "name": "stdout",
     "output_type": "stream",
     "text": [
      "{'temp': 26.2, 'humid': 73.0, 'pm': 9.57, 'rain': 44.0, 'gas': 65.0, 'light': 154.0}\n"
     ]
    },
    {
     "name": "stderr",
     "output_type": "stream",
     "text": [
      "220.68.27.103 - - [13/Jun/2024 12:45:14] \"GET /environment HTTP/1.1\" 200 -\n",
      "220.68.27.64 - - [13/Jun/2024 12:45:15] \"GET /window_status HTTP/1.1\" 200 -\n",
      "220.68.27.64 - - [13/Jun/2024 12:45:15] \"POST /api HTTP/1.1\" 200 -\n",
      "220.68.27.64 - - [13/Jun/2024 12:45:15] \"POST /environment HTTP/1.1\" 405 -\n"
     ]
    },
    {
     "name": "stdout",
     "output_type": "stream",
     "text": [
      "{'temp': 26.2, 'humid': 73.0, 'pm': 9.57, 'rain': 44.0, 'gas': 65.0, 'light': 154.0}\n"
     ]
    },
    {
     "name": "stderr",
     "output_type": "stream",
     "text": [
      "220.68.27.103 - - [13/Jun/2024 12:45:19] \"GET /environment HTTP/1.1\" 200 -\n",
      "220.68.27.64 - - [13/Jun/2024 12:45:20] \"GET /window_status HTTP/1.1\" 200 -\n",
      "220.68.27.64 - - [13/Jun/2024 12:45:20] \"POST /api HTTP/1.1\" 200 -\n",
      "220.68.27.64 - - [13/Jun/2024 12:45:20] \"POST /environment HTTP/1.1\" 405 -\n"
     ]
    },
    {
     "name": "stdout",
     "output_type": "stream",
     "text": [
      "{'temp': 26.2, 'humid': 73.0, 'pm': 12.89, 'rain': 43.0, 'gas': 64.0, 'light': 153.0}\n"
     ]
    },
    {
     "name": "stderr",
     "output_type": "stream",
     "text": [
      "220.68.27.103 - - [13/Jun/2024 12:45:24] \"GET /environment HTTP/1.1\" 200 -\n",
      "220.68.27.64 - - [13/Jun/2024 12:45:26] \"GET /window_status HTTP/1.1\" 200 -\n",
      "220.68.27.64 - - [13/Jun/2024 12:45:26] \"POST /api HTTP/1.1\" 200 -\n",
      "220.68.27.64 - - [13/Jun/2024 12:45:26] \"POST /environment HTTP/1.1\" 405 -\n"
     ]
    },
    {
     "name": "stdout",
     "output_type": "stream",
     "text": [
      "{'temp': 26.2, 'humid': 73.0, 'pm': 19.53, 'rain': 47.0, 'gas': 67.0, 'light': 155.0}\n"
     ]
    },
    {
     "name": "stderr",
     "output_type": "stream",
     "text": [
      "220.68.27.103 - - [13/Jun/2024 12:45:29] \"GET /environment HTTP/1.1\" 200 -\n",
      "220.68.27.103 - - [13/Jun/2024 12:45:31] \"GET /environment HTTP/1.1\" 200 -\n",
      "220.68.27.103 - - [13/Jun/2024 12:45:31] \"GET /environment HTTP/1.1\" 200 -\n",
      "220.68.27.64 - - [13/Jun/2024 12:45:31] \"GET /window_status HTTP/1.1\" 200 -\n",
      "220.68.27.64 - - [13/Jun/2024 12:45:31] \"POST /api HTTP/1.1\" 200 -\n",
      "220.68.27.64 - - [13/Jun/2024 12:45:31] \"POST /environment HTTP/1.1\" 405 -\n"
     ]
    },
    {
     "name": "stdout",
     "output_type": "stream",
     "text": [
      "{'temp': 26.2, 'humid': 73.0, 'pm': 19.53, 'rain': 43.0, 'gas': 64.0, 'light': 153.0}\n"
     ]
    },
    {
     "name": "stderr",
     "output_type": "stream",
     "text": [
      "220.68.27.103 - - [13/Jun/2024 12:45:34] \"GET /environment HTTP/1.1\" 200 -\n",
      "220.68.27.64 - - [13/Jun/2024 12:45:36] \"GET /window_status HTTP/1.1\" 200 -\n",
      "220.68.27.64 - - [13/Jun/2024 12:45:36] \"POST /api HTTP/1.1\" 200 -\n",
      "220.68.27.64 - - [13/Jun/2024 12:45:36] \"POST /environment HTTP/1.1\" 405 -\n"
     ]
    },
    {
     "name": "stdout",
     "output_type": "stream",
     "text": [
      "{'temp': 26.2, 'humid': 73.0, 'pm': 11.23, 'rain': 44.0, 'gas': 65.0, 'light': 155.0}\n"
     ]
    },
    {
     "name": "stderr",
     "output_type": "stream",
     "text": [
      "220.68.27.103 - - [13/Jun/2024 12:45:39] \"GET /environment HTTP/1.1\" 200 -\n",
      "220.68.27.64 - - [13/Jun/2024 12:45:41] \"GET /window_status HTTP/1.1\" 200 -\n",
      "220.68.27.64 - - [13/Jun/2024 12:45:41] \"POST /api HTTP/1.1\" 200 -\n",
      "220.68.27.64 - - [13/Jun/2024 12:45:41] \"POST /environment HTTP/1.1\" 405 -\n"
     ]
    },
    {
     "name": "stdout",
     "output_type": "stream",
     "text": [
      "{'temp': 26.2, 'humid': 73.0, 'pm': 14.55, 'rain': 44.0, 'gas': 68.0, 'light': 157.0}\n"
     ]
    },
    {
     "name": "stderr",
     "output_type": "stream",
     "text": [
      "220.68.27.103 - - [13/Jun/2024 12:45:44] \"GET /environment HTTP/1.1\" 200 -\n",
      "220.68.27.64 - - [13/Jun/2024 12:45:46] \"GET /window_status HTTP/1.1\" 200 -\n",
      "220.68.27.64 - - [13/Jun/2024 12:45:46] \"POST /api HTTP/1.1\" 200 -\n",
      "220.68.27.64 - - [13/Jun/2024 12:45:46] \"POST /environment HTTP/1.1\" 405 -\n"
     ]
    },
    {
     "name": "stdout",
     "output_type": "stream",
     "text": [
      "{'temp': 26.2, 'humid': 73.0, 'pm': 6.25, 'rain': 43.0, 'gas': 64.0, 'light': 154.0}\n"
     ]
    },
    {
     "name": "stderr",
     "output_type": "stream",
     "text": [
      "220.68.27.103 - - [13/Jun/2024 12:45:49] \"GET /environment HTTP/1.1\" 200 -\n",
      "220.68.27.64 - - [13/Jun/2024 12:45:51] \"GET /window_status HTTP/1.1\" 200 -\n",
      "220.68.27.64 - - [13/Jun/2024 12:45:52] \"POST /api HTTP/1.1\" 200 -\n",
      "220.68.27.64 - - [13/Jun/2024 12:45:52] \"POST /environment HTTP/1.1\" 405 -\n"
     ]
    },
    {
     "name": "stdout",
     "output_type": "stream",
     "text": [
      "{'temp': 26.2, 'humid': 73.0, 'pm': 12.06, 'rain': 43.0, 'gas': 64.0, 'light': 155.0}\n"
     ]
    },
    {
     "name": "stderr",
     "output_type": "stream",
     "text": [
      "220.68.27.103 - - [13/Jun/2024 12:45:54] \"GET /environment HTTP/1.1\" 200 -\n",
      "220.68.27.64 - - [13/Jun/2024 12:45:57] \"GET /window_status HTTP/1.1\" 200 -\n",
      "220.68.27.64 - - [13/Jun/2024 12:45:57] \"POST /api HTTP/1.1\" 200 -\n",
      "220.68.27.64 - - [13/Jun/2024 12:45:57] \"POST /environment HTTP/1.1\" 405 -\n"
     ]
    },
    {
     "name": "stdout",
     "output_type": "stream",
     "text": [
      "{'temp': 26.2, 'humid': 73.0, 'pm': 7.91, 'rain': 44.0, 'gas': 64.0, 'light': 155.0}\n"
     ]
    },
    {
     "name": "stderr",
     "output_type": "stream",
     "text": [
      "220.68.27.103 - - [13/Jun/2024 12:45:59] \"GET /environment HTTP/1.1\" 200 -\n",
      "220.68.27.64 - - [13/Jun/2024 12:46:02] \"GET /window_status HTTP/1.1\" 200 -\n",
      "220.68.27.64 - - [13/Jun/2024 12:46:02] \"POST /api HTTP/1.1\" 200 -\n",
      "220.68.27.64 - - [13/Jun/2024 12:46:02] \"POST /environment HTTP/1.1\" 405 -\n"
     ]
    },
    {
     "name": "stdout",
     "output_type": "stream",
     "text": [
      "{'temp': 26.2, 'humid': 73.0, 'pm': 13.72, 'rain': 43.0, 'gas': 64.0, 'light': 155.0}\n"
     ]
    },
    {
     "name": "stderr",
     "output_type": "stream",
     "text": [
      "220.68.27.103 - - [13/Jun/2024 12:46:04] \"GET /environment HTTP/1.1\" 200 -\n",
      "220.68.27.64 - - [13/Jun/2024 12:46:07] \"GET /window_status HTTP/1.1\" 200 -\n",
      "220.68.27.64 - - [13/Jun/2024 12:46:07] \"POST /api HTTP/1.1\" 200 -\n",
      "220.68.27.64 - - [13/Jun/2024 12:46:07] \"POST /environment HTTP/1.1\" 405 -\n"
     ]
    },
    {
     "name": "stdout",
     "output_type": "stream",
     "text": [
      "{'temp': 26.2, 'humid': 73.0, 'pm': 7.08, 'rain': 48.0, 'gas': 66.0, 'light': 155.0}\n"
     ]
    },
    {
     "name": "stderr",
     "output_type": "stream",
     "text": [
      "220.68.27.103 - - [13/Jun/2024 12:46:09] \"GET /environment HTTP/1.1\" 200 -\n",
      "220.68.27.64 - - [13/Jun/2024 12:46:12] \"GET /window_status HTTP/1.1\" 200 -\n",
      "220.68.27.64 - - [13/Jun/2024 12:46:12] \"POST /api HTTP/1.1\" 200 -\n",
      "220.68.27.64 - - [13/Jun/2024 12:46:12] \"POST /environment HTTP/1.1\" 405 -\n"
     ]
    },
    {
     "name": "stdout",
     "output_type": "stream",
     "text": [
      "{'temp': 26.2, 'humid': 73.0, 'pm': 2.93, 'rain': 45.0, 'gas': 65.0, 'light': 155.0}\n"
     ]
    },
    {
     "name": "stderr",
     "output_type": "stream",
     "text": [
      "220.68.27.103 - - [13/Jun/2024 12:46:14] \"GET /environment HTTP/1.1\" 200 -\n",
      "220.68.27.64 - - [13/Jun/2024 12:46:17] \"GET /window_status HTTP/1.1\" 200 -\n",
      "220.68.27.64 - - [13/Jun/2024 12:46:17] \"POST /api HTTP/1.1\" 200 -\n",
      "220.68.27.64 - - [13/Jun/2024 12:46:17] \"POST /environment HTTP/1.1\" 405 -\n"
     ]
    },
    {
     "name": "stdout",
     "output_type": "stream",
     "text": [
      "{'temp': 26.2, 'humid': 73.0, 'pm': 4.59, 'rain': 44.0, 'gas': 64.0, 'light': 155.0}\n"
     ]
    },
    {
     "name": "stderr",
     "output_type": "stream",
     "text": [
      "220.68.27.103 - - [13/Jun/2024 12:46:19] \"GET /environment HTTP/1.1\" 200 -\n",
      "220.68.27.64 - - [13/Jun/2024 12:46:22] \"GET /window_status HTTP/1.1\" 200 -\n",
      "220.68.27.64 - - [13/Jun/2024 12:46:23] \"POST /api HTTP/1.1\" 200 -\n",
      "220.68.27.64 - - [13/Jun/2024 12:46:23] \"POST /environment HTTP/1.1\" 405 -\n"
     ]
    },
    {
     "name": "stdout",
     "output_type": "stream",
     "text": [
      "{'temp': 26.2, 'humid': 73.0, 'pm': 10.4, 'rain': 43.0, 'gas': 64.0, 'light': 154.0}\n"
     ]
    },
    {
     "name": "stderr",
     "output_type": "stream",
     "text": [
      "220.68.27.103 - - [13/Jun/2024 12:46:24] \"GET /environment HTTP/1.1\" 200 -\n",
      "220.68.27.64 - - [13/Jun/2024 12:46:28] \"GET /window_status HTTP/1.1\" 200 -\n",
      "220.68.27.64 - - [13/Jun/2024 12:46:28] \"POST /api HTTP/1.1\" 200 -\n",
      "220.68.27.64 - - [13/Jun/2024 12:46:28] \"POST /environment HTTP/1.1\" 405 -\n"
     ]
    },
    {
     "name": "stdout",
     "output_type": "stream",
     "text": [
      "{'temp': 26.2, 'humid': 73.0, 'pm': 8.74, 'rain': 45.0, 'gas': 69.0, 'light': 156.0}\n"
     ]
    },
    {
     "name": "stderr",
     "output_type": "stream",
     "text": [
      "220.68.27.103 - - [13/Jun/2024 12:46:29] \"GET /environment HTTP/1.1\" 200 -\n",
      "220.68.27.103 - - [13/Jun/2024 12:46:31] \"GET /environment HTTP/1.1\" 200 -\n",
      "220.68.27.103 - - [13/Jun/2024 12:46:31] \"GET /environment HTTP/1.1\" 200 -\n",
      "220.68.27.64 - - [13/Jun/2024 12:46:33] \"GET /window_status HTTP/1.1\" 200 -\n",
      "220.68.27.64 - - [13/Jun/2024 12:46:33] \"POST /api HTTP/1.1\" 200 -\n",
      "220.68.27.64 - - [13/Jun/2024 12:46:33] \"POST /environment HTTP/1.1\" 405 -\n"
     ]
    },
    {
     "name": "stdout",
     "output_type": "stream",
     "text": [
      "{'temp': 26.2, 'humid': 73.0, 'pm': 7.08, 'rain': 48.0, 'gas': 66.0, 'light': 154.0}\n"
     ]
    },
    {
     "name": "stderr",
     "output_type": "stream",
     "text": [
      "220.68.27.103 - - [13/Jun/2024 12:46:34] \"GET /environment HTTP/1.1\" 200 -\n",
      "220.68.27.64 - - [13/Jun/2024 12:46:38] \"GET /window_status HTTP/1.1\" 200 -\n",
      "220.68.27.64 - - [13/Jun/2024 12:46:38] \"POST /api HTTP/1.1\" 200 -\n",
      "220.68.27.64 - - [13/Jun/2024 12:46:38] \"POST /environment HTTP/1.1\" 405 -\n"
     ]
    },
    {
     "name": "stdout",
     "output_type": "stream",
     "text": [
      "{'temp': 26.2, 'humid': 73.0, 'pm': 4.59, 'rain': 45.0, 'gas': 65.0, 'light': 153.0}\n"
     ]
    },
    {
     "name": "stderr",
     "output_type": "stream",
     "text": [
      "220.68.27.103 - - [13/Jun/2024 12:46:39] \"GET /environment HTTP/1.1\" 200 -\n",
      "220.68.27.64 - - [13/Jun/2024 12:46:43] \"GET /window_status HTTP/1.1\" 200 -\n",
      "220.68.27.64 - - [13/Jun/2024 12:46:43] \"POST /api HTTP/1.1\" 200 -\n",
      "220.68.27.64 - - [13/Jun/2024 12:46:43] \"POST /environment HTTP/1.1\" 405 -\n"
     ]
    },
    {
     "name": "stdout",
     "output_type": "stream",
     "text": [
      "{'temp': 26.2, 'humid': 73.0, 'pm': 2.93, 'rain': 44.0, 'gas': 64.0, 'light': 154.0}\n"
     ]
    },
    {
     "name": "stderr",
     "output_type": "stream",
     "text": [
      "220.68.27.103 - - [13/Jun/2024 12:46:44] \"GET /environment HTTP/1.1\" 200 -\n",
      "220.68.27.64 - - [13/Jun/2024 12:46:48] \"GET /window_status HTTP/1.1\" 200 -\n",
      "220.68.27.64 - - [13/Jun/2024 12:46:49] \"POST /api HTTP/1.1\" 200 -\n",
      "220.68.27.64 - - [13/Jun/2024 12:46:49] \"POST /environment HTTP/1.1\" 405 -\n",
      "220.68.27.103 - - [13/Jun/2024 12:46:49] \"GET /environment HTTP/1.1\" 200 -\n"
     ]
    },
    {
     "name": "stdout",
     "output_type": "stream",
     "text": [
      "{'temp': 26.2, 'humid': 73.0, 'pm': 8.74, 'rain': 43.0, 'gas': 64.0, 'light': 153.0}\n"
     ]
    },
    {
     "name": "stderr",
     "output_type": "stream",
     "text": [
      "220.68.27.64 - - [13/Jun/2024 12:46:54] \"GET /window_status HTTP/1.1\" 200 -\n",
      "220.68.27.103 - - [13/Jun/2024 12:46:54] \"GET /environment HTTP/1.1\" 200 -\n",
      "220.68.27.64 - - [13/Jun/2024 12:46:54] \"POST /api HTTP/1.1\" 200 -\n",
      "220.68.27.64 - - [13/Jun/2024 12:46:54] \"POST /environment HTTP/1.1\" 405 -\n"
     ]
    },
    {
     "name": "stdout",
     "output_type": "stream",
     "text": [
      "{'temp': 26.2, 'humid': 73.0, 'pm': 9.57, 'rain': 43.0, 'gas': 64.0, 'light': 154.0}\n"
     ]
    },
    {
     "name": "stderr",
     "output_type": "stream",
     "text": [
      "220.68.27.103 - - [13/Jun/2024 12:46:59] \"GET /environment HTTP/1.1\" 200 -\n",
      "220.68.27.64 - - [13/Jun/2024 12:46:59] \"GET /window_status HTTP/1.1\" 200 -\n",
      "220.68.27.64 - - [13/Jun/2024 12:46:59] \"POST /api HTTP/1.1\" 200 -\n",
      "220.68.27.64 - - [13/Jun/2024 12:46:59] \"POST /environment HTTP/1.1\" 405 -\n"
     ]
    },
    {
     "name": "stdout",
     "output_type": "stream",
     "text": [
      "{'temp': 26.2, 'humid': 73.0, 'pm': 25.34, 'rain': 43.0, 'gas': 64.0, 'light': 153.0}\n"
     ]
    },
    {
     "name": "stderr",
     "output_type": "stream",
     "text": [
      "220.68.27.103 - - [13/Jun/2024 12:47:04] \"GET /environment HTTP/1.1\" 200 -\n",
      "220.68.27.64 - - [13/Jun/2024 12:47:04] \"GET /window_status HTTP/1.1\" 200 -\n",
      "220.68.27.64 - - [13/Jun/2024 12:47:04] \"POST /api HTTP/1.1\" 200 -\n",
      "220.68.27.64 - - [13/Jun/2024 12:47:04] \"POST /environment HTTP/1.1\" 405 -\n"
     ]
    },
    {
     "name": "stdout",
     "output_type": "stream",
     "text": [
      "{'temp': 26.2, 'humid': 73.0, 'pm': 8.74, 'rain': 45.0, 'gas': 65.0, 'light': 155.0}\n"
     ]
    },
    {
     "name": "stderr",
     "output_type": "stream",
     "text": [
      "220.68.27.103 - - [13/Jun/2024 12:47:09] \"GET /environment HTTP/1.1\" 200 -\n",
      "220.68.27.64 - - [13/Jun/2024 12:47:09] \"GET /window_status HTTP/1.1\" 200 -\n",
      "220.68.27.64 - - [13/Jun/2024 12:47:09] \"POST /api HTTP/1.1\" 200 -\n",
      "220.68.27.64 - - [13/Jun/2024 12:47:09] \"POST /environment HTTP/1.1\" 405 -\n"
     ]
    },
    {
     "name": "stdout",
     "output_type": "stream",
     "text": [
      "{'temp': 26.2, 'humid': 73.0, 'pm': 8.74, 'rain': 44.0, 'gas': 64.0, 'light': 155.0}\n"
     ]
    },
    {
     "name": "stderr",
     "output_type": "stream",
     "text": [
      "220.68.27.103 - - [13/Jun/2024 12:47:14] \"GET /environment HTTP/1.1\" 200 -\n",
      "220.68.27.64 - - [13/Jun/2024 12:47:14] \"GET /window_status HTTP/1.1\" 200 -\n",
      "220.68.27.64 - - [13/Jun/2024 12:47:14] \"POST /api HTTP/1.1\" 200 -\n",
      "220.68.27.64 - - [13/Jun/2024 12:47:14] \"POST /environment HTTP/1.1\" 405 -\n"
     ]
    },
    {
     "name": "stdout",
     "output_type": "stream",
     "text": [
      "{'temp': 26.2, 'humid': 73.0, 'pm': 0.44, 'rain': 43.0, 'gas': 64.0, 'light': 154.0}\n"
     ]
    },
    {
     "name": "stderr",
     "output_type": "stream",
     "text": [
      "220.68.27.103 - - [13/Jun/2024 12:47:19] \"GET /environment HTTP/1.1\" 200 -\n",
      "220.68.27.64 - - [13/Jun/2024 12:47:19] \"GET /window_status HTTP/1.1\" 200 -\n",
      "220.68.27.64 - - [13/Jun/2024 12:47:20] \"POST /api HTTP/1.1\" 200 -\n",
      "220.68.27.64 - - [13/Jun/2024 12:47:20] \"POST /environment HTTP/1.1\" 405 -\n"
     ]
    },
    {
     "name": "stdout",
     "output_type": "stream",
     "text": [
      "{'temp': 26.2, 'humid': 73.0, 'pm': 17.04, 'rain': 42.0, 'gas': 65.0, 'light': 154.0}\n"
     ]
    },
    {
     "name": "stderr",
     "output_type": "stream",
     "text": [
      "220.68.27.103 - - [13/Jun/2024 12:47:24] \"GET /environment HTTP/1.1\" 200 -\n",
      "220.68.27.64 - - [13/Jun/2024 12:47:25] \"GET /window_status HTTP/1.1\" 200 -\n",
      "220.68.27.64 - - [13/Jun/2024 12:47:25] \"POST /api HTTP/1.1\" 200 -\n",
      "220.68.27.64 - - [13/Jun/2024 12:47:25] \"POST /environment HTTP/1.1\" 405 -\n"
     ]
    },
    {
     "name": "stdout",
     "output_type": "stream",
     "text": [
      "{'temp': 26.2, 'humid': 73.0, 'pm': 9.57, 'rain': 48.0, 'gas': 68.0, 'light': 154.0}\n"
     ]
    },
    {
     "name": "stderr",
     "output_type": "stream",
     "text": [
      "220.68.27.103 - - [13/Jun/2024 12:47:29] \"GET /environment HTTP/1.1\" 200 -\n",
      "220.68.27.64 - - [13/Jun/2024 12:47:30] \"GET /window_status HTTP/1.1\" 200 -\n",
      "220.68.27.64 - - [13/Jun/2024 12:47:30] \"POST /api HTTP/1.1\" 200 -\n",
      "220.68.27.64 - - [13/Jun/2024 12:47:30] \"POST /environment HTTP/1.1\" 405 -\n"
     ]
    },
    {
     "name": "stdout",
     "output_type": "stream",
     "text": [
      "{'temp': 26.2, 'humid': 73.0, 'pm': 17.04, 'rain': 45.0, 'gas': 65.0, 'light': 154.0}\n"
     ]
    },
    {
     "name": "stderr",
     "output_type": "stream",
     "text": [
      "220.68.27.103 - - [13/Jun/2024 12:47:31] \"GET /environment HTTP/1.1\" 200 -\n",
      "220.68.27.103 - - [13/Jun/2024 12:47:31] \"GET /environment HTTP/1.1\" 200 -\n",
      "220.68.27.103 - - [13/Jun/2024 12:47:34] \"GET /environment HTTP/1.1\" 200 -\n",
      "220.68.27.64 - - [13/Jun/2024 12:47:35] \"GET /window_status HTTP/1.1\" 200 -\n",
      "220.68.27.64 - - [13/Jun/2024 12:47:35] \"POST /api HTTP/1.1\" 200 -\n",
      "220.68.27.64 - - [13/Jun/2024 12:47:35] \"POST /environment HTTP/1.1\" 405 -\n"
     ]
    },
    {
     "name": "stdout",
     "output_type": "stream",
     "text": [
      "{'temp': 26.2, 'humid': 73.0, 'pm': 3.76, 'rain': 43.0, 'gas': 64.0, 'light': 155.0}\n"
     ]
    },
    {
     "name": "stderr",
     "output_type": "stream",
     "text": [
      "220.68.27.103 - - [13/Jun/2024 12:47:39] \"GET /environment HTTP/1.1\" 200 -\n",
      "220.68.27.64 - - [13/Jun/2024 12:47:40] \"GET /window_status HTTP/1.1\" 200 -\n",
      "220.68.27.64 - - [13/Jun/2024 12:47:40] \"POST /api HTTP/1.1\" 200 -\n",
      "220.68.27.64 - - [13/Jun/2024 12:47:40] \"POST /environment HTTP/1.1\" 405 -\n"
     ]
    },
    {
     "name": "stdout",
     "output_type": "stream",
     "text": [
      "{'temp': 26.2, 'humid': 73.0, 'pm': 15.38, 'rain': 43.0, 'gas': 66.0, 'light': 157.0}\n"
     ]
    },
    {
     "name": "stderr",
     "output_type": "stream",
     "text": [
      "220.68.27.103 - - [13/Jun/2024 12:47:44] \"GET /environment HTTP/1.1\" 200 -\n",
      "220.68.27.64 - - [13/Jun/2024 12:47:45] \"GET /window_status HTTP/1.1\" 200 -\n",
      "220.68.27.64 - - [13/Jun/2024 12:47:45] \"POST /api HTTP/1.1\" 200 -\n",
      "220.68.27.64 - - [13/Jun/2024 12:47:45] \"POST /environment HTTP/1.1\" 405 -\n"
     ]
    },
    {
     "name": "stdout",
     "output_type": "stream",
     "text": [
      "{'temp': 26.2, 'humid': 73.0, 'pm': 7.08, 'rain': 43.0, 'gas': 64.0, 'light': 153.0}\n"
     ]
    },
    {
     "name": "stderr",
     "output_type": "stream",
     "text": [
      "220.68.27.103 - - [13/Jun/2024 12:47:49] \"GET /environment HTTP/1.1\" 200 -\n",
      "220.68.27.64 - - [13/Jun/2024 12:47:51] \"GET /window_status HTTP/1.1\" 200 -\n",
      "220.68.27.64 - - [13/Jun/2024 12:47:51] \"POST /api HTTP/1.1\" 200 -\n",
      "220.68.27.64 - - [13/Jun/2024 12:47:51] \"POST /environment HTTP/1.1\" 405 -\n"
     ]
    },
    {
     "name": "stdout",
     "output_type": "stream",
     "text": [
      "{'temp': 26.2, 'humid': 73.0, 'pm': 6.25, 'rain': 43.0, 'gas': 64.0, 'light': 153.0}\n"
     ]
    },
    {
     "name": "stderr",
     "output_type": "stream",
     "text": [
      "220.68.27.103 - - [13/Jun/2024 12:47:54] \"GET /environment HTTP/1.1\" 200 -\n",
      "220.68.27.64 - - [13/Jun/2024 12:47:56] \"GET /window_status HTTP/1.1\" 200 -\n",
      "220.68.27.64 - - [13/Jun/2024 12:47:56] \"POST /api HTTP/1.1\" 200 -\n",
      "220.68.27.64 - - [13/Jun/2024 12:47:56] \"POST /environment HTTP/1.1\" 405 -\n"
     ]
    },
    {
     "name": "stdout",
     "output_type": "stream",
     "text": [
      "{'temp': 26.2, 'humid': 73.0, 'pm': 14.55, 'rain': 43.0, 'gas': 64.0, 'light': 153.0}\n"
     ]
    },
    {
     "name": "stderr",
     "output_type": "stream",
     "text": [
      "220.68.27.103 - - [13/Jun/2024 12:47:59] \"GET /environment HTTP/1.1\" 200 -\n",
      "220.68.27.64 - - [13/Jun/2024 12:48:01] \"GET /window_status HTTP/1.1\" 200 -\n",
      "220.68.27.64 - - [13/Jun/2024 12:48:01] \"POST /api HTTP/1.1\" 200 -\n",
      "220.68.27.64 - - [13/Jun/2024 12:48:01] \"POST /environment HTTP/1.1\" 405 -\n"
     ]
    },
    {
     "name": "stdout",
     "output_type": "stream",
     "text": [
      "{'temp': 26.2, 'humid': 73.0, 'pm': 0.44, 'rain': 43.0, 'gas': 64.0, 'light': 154.0}\n"
     ]
    },
    {
     "name": "stderr",
     "output_type": "stream",
     "text": [
      "220.68.27.103 - - [13/Jun/2024 12:48:04] \"GET /environment HTTP/1.1\" 200 -\n",
      "220.68.27.64 - - [13/Jun/2024 12:48:06] \"GET /window_status HTTP/1.1\" 200 -\n",
      "220.68.27.64 - - [13/Jun/2024 12:48:06] \"POST /api HTTP/1.1\" 200 -\n",
      "220.68.27.64 - - [13/Jun/2024 12:48:06] \"POST /environment HTTP/1.1\" 405 -\n"
     ]
    },
    {
     "name": "stdout",
     "output_type": "stream",
     "text": [
      "{'temp': 26.2, 'humid': 73.0, 'pm': 9.57, 'rain': 43.0, 'gas': 66.0, 'light': 157.0}\n"
     ]
    },
    {
     "name": "stderr",
     "output_type": "stream",
     "text": [
      "220.68.27.103 - - [13/Jun/2024 12:48:09] \"GET /environment HTTP/1.1\" 200 -\n",
      "220.68.27.64 - - [13/Jun/2024 12:48:11] \"GET /window_status HTTP/1.1\" 200 -\n",
      "220.68.27.64 - - [13/Jun/2024 12:48:11] \"POST /api HTTP/1.1\" 200 -\n",
      "220.68.27.64 - - [13/Jun/2024 12:48:11] \"POST /environment HTTP/1.1\" 405 -\n"
     ]
    },
    {
     "name": "stdout",
     "output_type": "stream",
     "text": [
      "{'temp': 26.2, 'humid': 73.0, 'pm': 7.08, 'rain': 43.0, 'gas': 64.0, 'light': 153.0}\n"
     ]
    },
    {
     "name": "stderr",
     "output_type": "stream",
     "text": [
      "220.68.27.103 - - [13/Jun/2024 12:48:14] \"GET /environment HTTP/1.1\" 200 -\n",
      "220.68.27.64 - - [13/Jun/2024 12:48:16] \"GET /window_status HTTP/1.1\" 200 -\n",
      "220.68.27.64 - - [13/Jun/2024 12:48:17] \"POST /api HTTP/1.1\" 200 -\n",
      "220.68.27.64 - - [13/Jun/2024 12:48:17] \"POST /environment HTTP/1.1\" 405 -\n"
     ]
    },
    {
     "name": "stdout",
     "output_type": "stream",
     "text": [
      "{'temp': 26.2, 'humid': 73.0, 'pm': 11.23, 'rain': 43.0, 'gas': 64.0, 'light': 154.0}\n"
     ]
    },
    {
     "name": "stderr",
     "output_type": "stream",
     "text": [
      "220.68.27.103 - - [13/Jun/2024 12:48:19] \"GET /environment HTTP/1.1\" 200 -\n",
      "220.68.27.64 - - [13/Jun/2024 12:48:22] \"GET /window_status HTTP/1.1\" 200 -\n",
      "220.68.27.64 - - [13/Jun/2024 12:48:22] \"POST /api HTTP/1.1\" 200 -\n",
      "220.68.27.64 - - [13/Jun/2024 12:48:22] \"POST /environment HTTP/1.1\" 405 -\n"
     ]
    },
    {
     "name": "stdout",
     "output_type": "stream",
     "text": [
      "{'temp': 26.2, 'humid': 73.0, 'pm': 12.06, 'rain': 43.0, 'gas': 64.0, 'light': 154.0}\n"
     ]
    },
    {
     "name": "stderr",
     "output_type": "stream",
     "text": [
      "220.68.27.103 - - [13/Jun/2024 12:48:24] \"GET /environment HTTP/1.1\" 200 -\n",
      "220.68.27.64 - - [13/Jun/2024 12:48:27] \"GET /window_status HTTP/1.1\" 200 -\n",
      "220.68.27.64 - - [13/Jun/2024 12:48:27] \"POST /api HTTP/1.1\" 200 -\n",
      "220.68.27.64 - - [13/Jun/2024 12:48:27] \"POST /environment HTTP/1.1\" 405 -\n"
     ]
    },
    {
     "name": "stdout",
     "output_type": "stream",
     "text": [
      "{'temp': 26.2, 'humid': 73.0, 'pm': 1.27, 'rain': 42.0, 'gas': 66.0, 'light': 158.0}\n"
     ]
    },
    {
     "name": "stderr",
     "output_type": "stream",
     "text": [
      "220.68.27.103 - - [13/Jun/2024 12:48:29] \"GET /environment HTTP/1.1\" 200 -\n",
      "220.68.27.103 - - [13/Jun/2024 12:48:31] \"GET /environment HTTP/1.1\" 200 -\n",
      "220.68.27.103 - - [13/Jun/2024 12:48:31] \"GET /environment HTTP/1.1\" 200 -\n",
      "220.68.27.64 - - [13/Jun/2024 12:48:32] \"GET /window_status HTTP/1.1\" 200 -\n",
      "220.68.27.64 - - [13/Jun/2024 12:48:32] \"POST /api HTTP/1.1\" 200 -\n",
      "220.68.27.64 - - [13/Jun/2024 12:48:32] \"POST /environment HTTP/1.1\" 405 -\n"
     ]
    },
    {
     "name": "stdout",
     "output_type": "stream",
     "text": [
      "{'temp': 26.2, 'humid': 73.0, 'pm': 6.25, 'rain': 46.0, 'gas': 68.0, 'light': 155.0}\n"
     ]
    },
    {
     "name": "stderr",
     "output_type": "stream",
     "text": [
      "220.68.27.103 - - [13/Jun/2024 12:48:34] \"GET /environment HTTP/1.1\" 200 -\n",
      "220.68.27.64 - - [13/Jun/2024 12:48:37] \"GET /window_status HTTP/1.1\" 200 -\n",
      "220.68.27.64 - - [13/Jun/2024 12:48:37] \"POST /api HTTP/1.1\" 200 -\n",
      "220.68.27.64 - - [13/Jun/2024 12:48:37] \"POST /environment HTTP/1.1\" 405 -\n"
     ]
    },
    {
     "name": "stdout",
     "output_type": "stream",
     "text": [
      "{'temp': 26.2, 'humid': 73.0, 'pm': 4.59, 'rain': 46.0, 'gas': 65.0, 'light': 153.0}\n"
     ]
    },
    {
     "name": "stderr",
     "output_type": "stream",
     "text": [
      "220.68.27.103 - - [13/Jun/2024 12:48:39] \"GET /environment HTTP/1.1\" 200 -\n",
      "220.68.27.64 - - [13/Jun/2024 12:48:42] \"GET /window_status HTTP/1.1\" 200 -\n",
      "220.68.27.64 - - [13/Jun/2024 12:48:42] \"POST /api HTTP/1.1\" 200 -\n",
      "220.68.27.64 - - [13/Jun/2024 12:48:42] \"POST /environment HTTP/1.1\" 405 -\n"
     ]
    },
    {
     "name": "stdout",
     "output_type": "stream",
     "text": [
      "{'temp': 26.2, 'humid': 73.0, 'pm': 11.23, 'rain': 44.0, 'gas': 64.0, 'light': 153.0}\n"
     ]
    },
    {
     "name": "stderr",
     "output_type": "stream",
     "text": [
      "220.68.27.103 - - [13/Jun/2024 12:48:44] \"GET /environment HTTP/1.1\" 200 -\n",
      "220.68.27.64 - - [13/Jun/2024 12:48:47] \"GET /window_status HTTP/1.1\" 200 -\n",
      "220.68.27.64 - - [13/Jun/2024 12:48:48] \"POST /api HTTP/1.1\" 200 -\n",
      "220.68.27.64 - - [13/Jun/2024 12:48:48] \"POST /environment HTTP/1.1\" 405 -\n"
     ]
    },
    {
     "name": "stdout",
     "output_type": "stream",
     "text": [
      "{'temp': 26.2, 'humid': 73.0, 'pm': 9.57, 'rain': 42.0, 'gas': 64.0, 'light': 155.0}\n"
     ]
    },
    {
     "name": "stderr",
     "output_type": "stream",
     "text": [
      "220.68.27.103 - - [13/Jun/2024 12:48:49] \"GET /environment HTTP/1.1\" 200 -\n",
      "220.68.27.64 - - [13/Jun/2024 12:48:53] \"GET /window_status HTTP/1.1\" 200 -\n",
      "220.68.27.64 - - [13/Jun/2024 12:48:53] \"POST /api HTTP/1.1\" 200 -\n",
      "220.68.27.64 - - [13/Jun/2024 12:48:53] \"POST /environment HTTP/1.1\" 405 -\n"
     ]
    },
    {
     "name": "stdout",
     "output_type": "stream",
     "text": [
      "{'temp': 26.2, 'humid': 73.0, 'pm': 12.06, 'rain': 42.0, 'gas': 66.0, 'light': 157.0}\n"
     ]
    },
    {
     "name": "stderr",
     "output_type": "stream",
     "text": [
      "220.68.27.103 - - [13/Jun/2024 12:48:54] \"GET /environment HTTP/1.1\" 200 -\n",
      "220.68.27.64 - - [13/Jun/2024 12:48:58] \"GET /window_status HTTP/1.1\" 200 -\n",
      "220.68.27.64 - - [13/Jun/2024 12:48:58] \"POST /api HTTP/1.1\" 200 -\n",
      "220.68.27.64 - - [13/Jun/2024 12:48:58] \"POST /environment HTTP/1.1\" 405 -\n"
     ]
    },
    {
     "name": "stdout",
     "output_type": "stream",
     "text": [
      "{'temp': 26.2, 'humid': 73.0, 'pm': 9.57, 'rain': 43.0, 'gas': 64.0, 'light': 153.0}\n"
     ]
    },
    {
     "name": "stderr",
     "output_type": "stream",
     "text": [
      "220.68.27.103 - - [13/Jun/2024 12:48:59] \"GET /environment HTTP/1.1\" 200 -\n",
      "220.68.27.64 - - [13/Jun/2024 12:49:03] \"GET /window_status HTTP/1.1\" 200 -\n",
      "220.68.27.64 - - [13/Jun/2024 12:49:03] \"POST /api HTTP/1.1\" 200 -\n",
      "220.68.27.64 - - [13/Jun/2024 12:49:03] \"POST /environment HTTP/1.1\" 405 -\n"
     ]
    },
    {
     "name": "stdout",
     "output_type": "stream",
     "text": [
      "{'temp': 26.2, 'humid': 73.0, 'pm': 13.72, 'rain': 43.0, 'gas': 64.0, 'light': 153.0}\n"
     ]
    },
    {
     "name": "stderr",
     "output_type": "stream",
     "text": [
      "220.68.27.103 - - [13/Jun/2024 12:49:04] \"GET /environment HTTP/1.1\" 200 -\n",
      "220.68.27.64 - - [13/Jun/2024 12:49:08] \"GET /window_status HTTP/1.1\" 200 -\n",
      "220.68.27.64 - - [13/Jun/2024 12:49:08] \"POST /api HTTP/1.1\" 200 -\n",
      "220.68.27.64 - - [13/Jun/2024 12:49:08] \"POST /environment HTTP/1.1\" 405 -\n"
     ]
    },
    {
     "name": "stdout",
     "output_type": "stream",
     "text": [
      "{'temp': 26.2, 'humid': 73.0, 'pm': 10.4, 'rain': 43.0, 'gas': 64.0, 'light': 153.0}\n"
     ]
    },
    {
     "name": "stderr",
     "output_type": "stream",
     "text": [
      "220.68.27.103 - - [13/Jun/2024 12:49:09] \"GET /environment HTTP/1.1\" 200 -\n",
      "220.68.27.64 - - [13/Jun/2024 12:49:13] \"GET /window_status HTTP/1.1\" 200 -\n",
      "220.68.27.64 - - [13/Jun/2024 12:49:14] \"POST /api HTTP/1.1\" 200 -\n",
      "220.68.27.64 - - [13/Jun/2024 12:49:14] \"POST /environment HTTP/1.1\" 405 -\n",
      "220.68.27.103 - - [13/Jun/2024 12:49:14] \"GET /environment HTTP/1.1\" 200 -\n"
     ]
    },
    {
     "name": "stdout",
     "output_type": "stream",
     "text": [
      "{'temp': 26.2, 'humid': 73.0, 'pm': 11.23, 'rain': 42.0, 'gas': 66.0, 'light': 157.0}\n"
     ]
    },
    {
     "name": "stderr",
     "output_type": "stream",
     "text": [
      "220.68.27.64 - - [13/Jun/2024 12:49:19] \"GET /window_status HTTP/1.1\" 200 -\n",
      "220.68.27.103 - - [13/Jun/2024 12:49:19] \"GET /environment HTTP/1.1\" 200 -\n",
      "220.68.27.64 - - [13/Jun/2024 12:49:19] \"POST /api HTTP/1.1\" 200 -\n",
      "220.68.27.64 - - [13/Jun/2024 12:49:19] \"POST /environment HTTP/1.1\" 405 -\n"
     ]
    },
    {
     "name": "stdout",
     "output_type": "stream",
     "text": [
      "{'temp': 26.2, 'humid': 73.0, 'pm': 16.21, 'rain': 43.0, 'gas': 64.0, 'light': 153.0}\n"
     ]
    },
    {
     "name": "stderr",
     "output_type": "stream",
     "text": [
      "220.68.27.103 - - [13/Jun/2024 12:49:24] \"GET /environment HTTP/1.1\" 200 -\n",
      "220.68.27.64 - - [13/Jun/2024 12:49:24] \"GET /window_status HTTP/1.1\" 200 -\n",
      "220.68.27.64 - - [13/Jun/2024 12:49:24] \"POST /api HTTP/1.1\" 200 -\n",
      "220.68.27.64 - - [13/Jun/2024 12:49:24] \"POST /environment HTTP/1.1\" 405 -\n"
     ]
    },
    {
     "name": "stdout",
     "output_type": "stream",
     "text": [
      "{'temp': 26.2, 'humid': 73.0, 'pm': 14.55, 'rain': 45.0, 'gas': 65.0, 'light': 154.0}\n"
     ]
    },
    {
     "name": "stderr",
     "output_type": "stream",
     "text": [
      "220.68.27.103 - - [13/Jun/2024 12:49:29] \"GET /environment HTTP/1.1\" 200 -\n",
      "220.68.27.64 - - [13/Jun/2024 12:49:29] \"GET /window_status HTTP/1.1\" 200 -\n",
      "220.68.27.64 - - [13/Jun/2024 12:49:29] \"POST /api HTTP/1.1\" 200 -\n",
      "220.68.27.64 - - [13/Jun/2024 12:49:29] \"POST /environment HTTP/1.1\" 405 -\n"
     ]
    },
    {
     "name": "stdout",
     "output_type": "stream",
     "text": [
      "{'temp': 26.2, 'humid': 73.0, 'pm': 7.08, 'rain': 44.0, 'gas': 65.0, 'light': 157.0}\n"
     ]
    },
    {
     "name": "stderr",
     "output_type": "stream",
     "text": [
      "220.68.27.103 - - [13/Jun/2024 12:49:31] \"GET /environment HTTP/1.1\" 200 -\n",
      "220.68.27.103 - - [13/Jun/2024 12:49:31] \"GET /environment HTTP/1.1\" 200 -\n",
      "220.68.27.103 - - [13/Jun/2024 12:49:34] \"GET /environment HTTP/1.1\" 200 -\n",
      "220.68.27.64 - - [13/Jun/2024 12:49:34] \"GET /window_status HTTP/1.1\" 200 -\n",
      "220.68.27.64 - - [13/Jun/2024 12:49:34] \"POST /api HTTP/1.1\" 200 -\n",
      "220.68.27.64 - - [13/Jun/2024 12:49:34] \"POST /environment HTTP/1.1\" 405 -\n"
     ]
    },
    {
     "name": "stdout",
     "output_type": "stream",
     "text": [
      "{'temp': 26.2, 'humid': 73.0, 'pm': 14.55, 'rain': 61.0, 'gas': 86.0, 'light': 172.0}\n"
     ]
    },
    {
     "name": "stderr",
     "output_type": "stream",
     "text": [
      "220.68.27.103 - - [13/Jun/2024 12:49:39] \"GET /environment HTTP/1.1\" 200 -\n",
      "220.68.27.64 - - [13/Jun/2024 12:49:39] \"GET /window_status HTTP/1.1\" 200 -\n",
      "220.68.27.64 - - [13/Jun/2024 12:49:39] \"POST /api HTTP/1.1\" 200 -\n",
      "220.68.27.64 - - [13/Jun/2024 12:49:39] \"POST /environment HTTP/1.1\" 405 -\n"
     ]
    },
    {
     "name": "stdout",
     "output_type": "stream",
     "text": [
      "{'temp': 26.2, 'humid': 73.0, 'pm': 8.74, 'rain': 69.0, 'gas': 89.0, 'light': 175.0}\n"
     ]
    },
    {
     "name": "stderr",
     "output_type": "stream",
     "text": [
      "220.68.27.103 - - [13/Jun/2024 12:49:44] \"GET /environment HTTP/1.1\" 200 -\n",
      "220.68.27.64 - - [13/Jun/2024 12:49:44] \"GET /window_status HTTP/1.1\" 200 -\n",
      "220.68.27.64 - - [13/Jun/2024 12:49:45] \"POST /api HTTP/1.1\" 200 -\n",
      "220.68.27.64 - - [13/Jun/2024 12:49:45] \"POST /environment HTTP/1.1\" 405 -\n"
     ]
    },
    {
     "name": "stdout",
     "output_type": "stream",
     "text": [
      "{'temp': 26.2, 'humid': 72.0, 'pm': 7.91, 'rain': 54.0, 'gas': 74.0, 'light': 163.0}\n"
     ]
    },
    {
     "name": "stderr",
     "output_type": "stream",
     "text": [
      "220.68.27.103 - - [13/Jun/2024 12:49:49] \"GET /environment HTTP/1.1\" 200 -\n",
      "220.68.27.64 - - [13/Jun/2024 12:49:50] \"GET /window_status HTTP/1.1\" 200 -\n",
      "220.68.27.64 - - [13/Jun/2024 12:49:50] \"POST /api HTTP/1.1\" 200 -\n",
      "220.68.27.64 - - [13/Jun/2024 12:49:50] \"POST /environment HTTP/1.1\" 405 -\n"
     ]
    },
    {
     "name": "stdout",
     "output_type": "stream",
     "text": [
      "{'temp': 26.2, 'humid': 72.0, 'pm': 7.91, 'rain': 53.0, 'gas': 73.0, 'light': 162.0}\n"
     ]
    },
    {
     "name": "stderr",
     "output_type": "stream",
     "text": [
      "220.68.27.103 - - [13/Jun/2024 12:49:54] \"GET /environment HTTP/1.1\" 200 -\n",
      "220.68.27.64 - - [13/Jun/2024 12:49:55] \"GET /window_status HTTP/1.1\" 200 -\n",
      "220.68.27.64 - - [13/Jun/2024 12:49:55] \"POST /api HTTP/1.1\" 200 -\n",
      "220.68.27.64 - - [13/Jun/2024 12:49:55] \"POST /environment HTTP/1.1\" 405 -\n"
     ]
    },
    {
     "name": "stdout",
     "output_type": "stream",
     "text": [
      "{'temp': 26.2, 'humid': 72.0, 'pm': 8.74, 'rain': 53.0, 'gas': 73.0, 'light': 161.0}\n"
     ]
    },
    {
     "name": "stderr",
     "output_type": "stream",
     "text": [
      "220.68.27.103 - - [13/Jun/2024 12:49:59] \"GET /environment HTTP/1.1\" 200 -\n",
      "220.68.27.64 - - [13/Jun/2024 12:50:00] \"GET /window_status HTTP/1.1\" 200 -\n",
      "220.68.27.64 - - [13/Jun/2024 12:50:00] \"POST /api HTTP/1.1\" 200 -\n",
      "220.68.27.64 - - [13/Jun/2024 12:50:00] \"POST /environment HTTP/1.1\" 405 -\n"
     ]
    },
    {
     "name": "stdout",
     "output_type": "stream",
     "text": [
      "{'temp': 26.2, 'humid': 72.0, 'pm': 11.23, 'rain': 52.0, 'gas': 72.0, 'light': 160.0}\n"
     ]
    },
    {
     "name": "stderr",
     "output_type": "stream",
     "text": [
      "220.68.27.103 - - [13/Jun/2024 12:50:04] \"GET /environment HTTP/1.1\" 200 -\n",
      "220.68.27.64 - - [13/Jun/2024 12:50:05] \"GET /window_status HTTP/1.1\" 200 -\n",
      "220.68.27.64 - - [13/Jun/2024 12:50:05] \"POST /api HTTP/1.1\" 200 -\n",
      "220.68.27.64 - - [13/Jun/2024 12:50:05] \"POST /environment HTTP/1.1\" 405 -\n"
     ]
    },
    {
     "name": "stdout",
     "output_type": "stream",
     "text": [
      "{'temp': 26.2, 'humid': 72.0, 'pm': 3.76, 'rain': 53.0, 'gas': 72.0, 'light': 160.0}\n"
     ]
    },
    {
     "name": "stderr",
     "output_type": "stream",
     "text": [
      "220.68.27.103 - - [13/Jun/2024 12:50:09] \"GET /environment HTTP/1.1\" 200 -\n",
      "220.68.27.64 - - [13/Jun/2024 12:50:10] \"GET /window_status HTTP/1.1\" 200 -\n",
      "220.68.27.64 - - [13/Jun/2024 12:50:10] \"POST /api HTTP/1.1\" 200 -\n",
      "220.68.27.64 - - [13/Jun/2024 12:50:10] \"POST /environment HTTP/1.1\" 405 -\n"
     ]
    },
    {
     "name": "stdout",
     "output_type": "stream",
     "text": [
      "{'temp': 26.2, 'humid': 72.0, 'pm': 11.23, 'rain': 63.0, 'gas': 81.0, 'light': 169.0}\n"
     ]
    },
    {
     "name": "stderr",
     "output_type": "stream",
     "text": [
      "220.68.27.103 - - [13/Jun/2024 12:50:14] \"GET /environment HTTP/1.1\" 200 -\n",
      "220.68.27.64 - - [13/Jun/2024 12:50:16] \"GET /window_status HTTP/1.1\" 200 -\n",
      "220.68.27.64 - - [13/Jun/2024 12:50:16] \"POST /api HTTP/1.1\" 200 -\n",
      "220.68.27.64 - - [13/Jun/2024 12:50:16] \"POST /environment HTTP/1.1\" 405 -\n"
     ]
    },
    {
     "name": "stdout",
     "output_type": "stream",
     "text": [
      "{'temp': 26.2, 'humid': 72.0, 'pm': 3.76, 'rain': 55.0, 'gas': 75.0, 'light': 165.0}\n"
     ]
    },
    {
     "name": "stderr",
     "output_type": "stream",
     "text": [
      "220.68.27.103 - - [13/Jun/2024 12:50:19] \"GET /environment HTTP/1.1\" 200 -\n",
      "220.68.27.64 - - [13/Jun/2024 12:50:21] \"GET /window_status HTTP/1.1\" 200 -\n",
      "220.68.27.64 - - [13/Jun/2024 12:50:21] \"POST /api HTTP/1.1\" 200 -\n",
      "220.68.27.64 - - [13/Jun/2024 12:50:21] \"POST /environment HTTP/1.1\" 405 -\n"
     ]
    },
    {
     "name": "stdout",
     "output_type": "stream",
     "text": [
      "{'temp': 26.2, 'humid': 72.0, 'pm': 13.72, 'rain': 54.0, 'gas': 73.0, 'light': 164.0}\n"
     ]
    },
    {
     "name": "stderr",
     "output_type": "stream",
     "text": [
      "220.68.27.103 - - [13/Jun/2024 12:50:24] \"GET /environment HTTP/1.1\" 200 -\n",
      "220.68.27.64 - - [13/Jun/2024 12:50:26] \"GET /window_status HTTP/1.1\" 200 -\n",
      "220.68.27.64 - - [13/Jun/2024 12:50:26] \"POST /api HTTP/1.1\" 200 -\n",
      "220.68.27.64 - - [13/Jun/2024 12:50:26] \"POST /environment HTTP/1.1\" 405 -\n"
     ]
    },
    {
     "name": "stdout",
     "output_type": "stream",
     "text": [
      "{'temp': 26.2, 'humid': 72.0, 'pm': 7.08, 'rain': 53.0, 'gas': 73.0, 'light': 161.0}\n"
     ]
    },
    {
     "name": "stderr",
     "output_type": "stream",
     "text": [
      "220.68.27.103 - - [13/Jun/2024 12:50:29] \"GET /environment HTTP/1.1\" 200 -\n",
      "220.68.27.103 - - [13/Jun/2024 12:50:31] \"GET /environment HTTP/1.1\" 200 -\n",
      "220.68.27.103 - - [13/Jun/2024 12:50:31] \"GET /environment HTTP/1.1\" 200 -\n",
      "220.68.27.64 - - [13/Jun/2024 12:50:31] \"GET /window_status HTTP/1.1\" 200 -\n",
      "220.68.27.64 - - [13/Jun/2024 12:50:31] \"POST /api HTTP/1.1\" 200 -\n",
      "220.68.27.64 - - [13/Jun/2024 12:50:31] \"POST /environment HTTP/1.1\" 405 -\n"
     ]
    },
    {
     "name": "stdout",
     "output_type": "stream",
     "text": [
      "{'temp': 26.2, 'humid': 72.0, 'pm': 16.21, 'rain': 52.0, 'gas': 72.0, 'light': 161.0}\n"
     ]
    },
    {
     "name": "stderr",
     "output_type": "stream",
     "text": [
      "220.68.27.103 - - [13/Jun/2024 12:50:34] \"GET /environment HTTP/1.1\" 200 -\n",
      "220.68.27.64 - - [13/Jun/2024 12:50:36] \"GET /window_status HTTP/1.1\" 200 -\n",
      "220.68.27.64 - - [13/Jun/2024 12:50:36] \"POST /api HTTP/1.1\" 200 -\n",
      "220.68.27.64 - - [13/Jun/2024 12:50:36] \"POST /environment HTTP/1.1\" 405 -\n"
     ]
    },
    {
     "name": "stdout",
     "output_type": "stream",
     "text": [
      "{'temp': 26.2, 'humid': 72.0, 'pm': 11.23, 'rain': 52.0, 'gas': 76.0, 'light': 164.0}\n"
     ]
    },
    {
     "name": "stderr",
     "output_type": "stream",
     "text": [
      "220.68.27.103 - - [13/Jun/2024 12:50:39] \"GET /environment HTTP/1.1\" 200 -\n",
      "220.68.27.64 - - [13/Jun/2024 12:50:41] \"GET /window_status HTTP/1.1\" 200 -\n",
      "220.68.27.64 - - [13/Jun/2024 12:50:42] \"POST /api HTTP/1.1\" 200 -\n",
      "220.68.27.64 - - [13/Jun/2024 12:50:42] \"POST /environment HTTP/1.1\" 405 -\n"
     ]
    },
    {
     "name": "stdout",
     "output_type": "stream",
     "text": [
      "{'temp': 26.2, 'humid': 72.0, 'pm': 7.91, 'rain': 52.0, 'gas': 72.0, 'light': 160.0}\n"
     ]
    },
    {
     "name": "stderr",
     "output_type": "stream",
     "text": [
      "220.68.27.103 - - [13/Jun/2024 12:50:44] \"GET /environment HTTP/1.1\" 200 -\n",
      "220.68.27.64 - - [13/Jun/2024 12:50:47] \"GET /window_status HTTP/1.1\" 200 -\n",
      "220.68.27.64 - - [13/Jun/2024 12:50:47] \"POST /api HTTP/1.1\" 200 -\n",
      "220.68.27.64 - - [13/Jun/2024 12:50:47] \"POST /environment HTTP/1.1\" 405 -\n"
     ]
    },
    {
     "name": "stdout",
     "output_type": "stream",
     "text": [
      "{'temp': 26.2, 'humid': 72.0, 'pm': 14.55, 'rain': 51.0, 'gas': 71.0, 'light': 160.0}\n"
     ]
    },
    {
     "name": "stderr",
     "output_type": "stream",
     "text": [
      "220.68.27.103 - - [13/Jun/2024 12:50:49] \"GET /environment HTTP/1.1\" 200 -\n",
      "220.68.27.64 - - [13/Jun/2024 12:50:52] \"GET /window_status HTTP/1.1\" 200 -\n",
      "220.68.27.64 - - [13/Jun/2024 12:50:52] \"POST /api HTTP/1.1\" 200 -\n",
      "220.68.27.64 - - [13/Jun/2024 12:50:52] \"POST /environment HTTP/1.1\" 405 -\n"
     ]
    },
    {
     "name": "stdout",
     "output_type": "stream",
     "text": [
      "{'temp': 26.2, 'humid': 72.0, 'pm': 4.59, 'rain': 56.0, 'gas': 74.0, 'light': 161.0}\n"
     ]
    },
    {
     "name": "stderr",
     "output_type": "stream",
     "text": [
      "220.68.27.103 - - [13/Jun/2024 12:50:54] \"GET /environment HTTP/1.1\" 200 -\n",
      "220.68.27.64 - - [13/Jun/2024 12:50:57] \"GET /window_status HTTP/1.1\" 200 -\n",
      "220.68.27.64 - - [13/Jun/2024 12:50:57] \"POST /api HTTP/1.1\" 200 -\n",
      "220.68.27.64 - - [13/Jun/2024 12:50:57] \"POST /environment HTTP/1.1\" 405 -\n"
     ]
    },
    {
     "name": "stdout",
     "output_type": "stream",
     "text": [
      "{'temp': 26.2, 'humid': 72.0, 'pm': 9.57, 'rain': 56.0, 'gas': 73.0, 'light': 160.0}\n"
     ]
    },
    {
     "name": "stderr",
     "output_type": "stream",
     "text": [
      "220.68.27.103 - - [13/Jun/2024 12:50:59] \"GET /environment HTTP/1.1\" 200 -\n",
      "220.68.27.64 - - [13/Jun/2024 12:51:02] \"GET /window_status HTTP/1.1\" 200 -\n",
      "220.68.27.64 - - [13/Jun/2024 12:51:02] \"POST /api HTTP/1.1\" 200 -\n",
      "220.68.27.64 - - [13/Jun/2024 12:51:02] \"POST /environment HTTP/1.1\" 405 -\n"
     ]
    },
    {
     "name": "stdout",
     "output_type": "stream",
     "text": [
      "{'temp': 26.2, 'humid': 72.0, 'pm': 11.23, 'rain': 55.0, 'gas': 72.0, 'light': 160.0}\n"
     ]
    },
    {
     "name": "stderr",
     "output_type": "stream",
     "text": [
      "220.68.27.103 - - [13/Jun/2024 12:51:04] \"GET /environment HTTP/1.1\" 200 -\n",
      "220.68.27.64 - - [13/Jun/2024 12:51:07] \"GET /window_status HTTP/1.1\" 200 -\n",
      "220.68.27.64 - - [13/Jun/2024 12:51:07] \"POST /api HTTP/1.1\" 200 -\n",
      "220.68.27.64 - - [13/Jun/2024 12:51:07] \"POST /environment HTTP/1.1\" 405 -\n"
     ]
    },
    {
     "name": "stdout",
     "output_type": "stream",
     "text": [
      "{'temp': 26.0, 'humid': 72.0, 'pm': 16.21, 'rain': 50.0, 'gas': 71.0, 'light': 160.0}\n"
     ]
    },
    {
     "name": "stderr",
     "output_type": "stream",
     "text": [
      "220.68.27.103 - - [13/Jun/2024 12:51:09] \"GET /environment HTTP/1.1\" 200 -\n",
      "220.68.27.64 - - [13/Jun/2024 12:51:12] \"GET /window_status HTTP/1.1\" 200 -\n",
      "220.68.27.64 - - [13/Jun/2024 12:51:13] \"POST /api HTTP/1.1\" 200 -\n",
      "220.68.27.64 - - [13/Jun/2024 12:51:13] \"POST /environment HTTP/1.1\" 405 -\n"
     ]
    },
    {
     "name": "stdout",
     "output_type": "stream",
     "text": [
      "{'temp': 25.8, 'humid': 72.0, 'pm': 6.25, 'rain': 51.0, 'gas': 71.0, 'light': 159.0}\n"
     ]
    },
    {
     "name": "stderr",
     "output_type": "stream",
     "text": [
      "220.68.27.103 - - [13/Jun/2024 12:51:14] \"GET /environment HTTP/1.1\" 200 -\n",
      "220.68.27.64 - - [13/Jun/2024 12:51:18] \"GET /window_status HTTP/1.1\" 200 -\n",
      "220.68.27.64 - - [13/Jun/2024 12:51:18] \"POST /api HTTP/1.1\" 200 -\n",
      "220.68.27.64 - - [13/Jun/2024 12:51:18] \"POST /environment HTTP/1.1\" 405 -\n"
     ]
    },
    {
     "name": "stdout",
     "output_type": "stream",
     "text": [
      "{'temp': 25.8, 'humid': 72.0, 'pm': 10.4, 'rain': 50.0, 'gas': 71.0, 'light': 159.0}\n"
     ]
    },
    {
     "name": "stderr",
     "output_type": "stream",
     "text": [
      "220.68.27.103 - - [13/Jun/2024 12:51:19] \"GET /environment HTTP/1.1\" 200 -\n",
      "220.68.27.64 - - [13/Jun/2024 12:51:23] \"GET /window_status HTTP/1.1\" 200 -\n",
      "220.68.27.64 - - [13/Jun/2024 12:51:23] \"POST /api HTTP/1.1\" 200 -\n",
      "220.68.27.64 - - [13/Jun/2024 12:51:23] \"POST /environment HTTP/1.1\" 405 -\n"
     ]
    },
    {
     "name": "stdout",
     "output_type": "stream",
     "text": [
      "{'temp': 25.8, 'humid': 72.0, 'pm': 21.19, 'rain': 49.0, 'gas': 72.0, 'light': 163.0}\n"
     ]
    },
    {
     "name": "stderr",
     "output_type": "stream",
     "text": [
      "220.68.27.103 - - [13/Jun/2024 12:51:24] \"GET /environment HTTP/1.1\" 200 -\n",
      "220.68.27.64 - - [13/Jun/2024 12:51:28] \"GET /window_status HTTP/1.1\" 200 -\n",
      "220.68.27.64 - - [13/Jun/2024 12:51:28] \"POST /api HTTP/1.1\" 200 -\n",
      "220.68.27.64 - - [13/Jun/2024 12:51:28] \"POST /environment HTTP/1.1\" 405 -\n"
     ]
    },
    {
     "name": "stdout",
     "output_type": "stream",
     "text": [
      "{'temp': 25.8, 'humid': 72.0, 'pm': 2.93, 'rain': 49.0, 'gas': 70.0, 'light': 158.0}\n"
     ]
    },
    {
     "name": "stderr",
     "output_type": "stream",
     "text": [
      "220.68.27.103 - - [13/Jun/2024 12:51:29] \"GET /environment HTTP/1.1\" 200 -\n",
      "220.68.27.103 - - [13/Jun/2024 12:51:31] \"GET /environment HTTP/1.1\" 200 -\n",
      "220.68.27.103 - - [13/Jun/2024 12:51:31] \"GET /environment HTTP/1.1\" 200 -\n",
      "220.68.27.64 - - [13/Jun/2024 12:51:33] \"GET /window_status HTTP/1.1\" 200 -\n",
      "220.68.27.64 - - [13/Jun/2024 12:51:33] \"POST /api HTTP/1.1\" 200 -\n",
      "220.68.27.64 - - [13/Jun/2024 12:51:33] \"POST /environment HTTP/1.1\" 405 -\n"
     ]
    },
    {
     "name": "stdout",
     "output_type": "stream",
     "text": [
      "{'temp': 25.8, 'humid': 72.0, 'pm': 12.89, 'rain': 48.0, 'gas': 69.0, 'light': 157.0}\n"
     ]
    },
    {
     "name": "stderr",
     "output_type": "stream",
     "text": [
      "220.68.27.103 - - [13/Jun/2024 12:51:34] \"GET /environment HTTP/1.1\" 200 -\n",
      "220.68.27.64 - - [13/Jun/2024 12:51:38] \"GET /window_status HTTP/1.1\" 200 -\n",
      "220.68.27.64 - - [13/Jun/2024 12:51:39] \"POST /api HTTP/1.1\" 200 -\n",
      "220.68.27.64 - - [13/Jun/2024 12:51:39] \"POST /environment HTTP/1.1\" 405 -\n",
      "220.68.27.103 - - [13/Jun/2024 12:51:39] \"GET /environment HTTP/1.1\" 200 -\n"
     ]
    },
    {
     "name": "stdout",
     "output_type": "stream",
     "text": [
      "{'temp': 25.8, 'humid': 72.0, 'pm': 5.42, 'rain': 52.0, 'gas': 70.0, 'light': 158.0}\n"
     ]
    },
    {
     "name": "stderr",
     "output_type": "stream",
     "text": [
      "220.68.27.64 - - [13/Jun/2024 12:51:44] \"GET /window_status HTTP/1.1\" 200 -\n",
      "220.68.27.103 - - [13/Jun/2024 12:51:44] \"GET /environment HTTP/1.1\" 200 -\n",
      "220.68.27.64 - - [13/Jun/2024 12:51:44] \"POST /api HTTP/1.1\" 200 -\n",
      "220.68.27.64 - - [13/Jun/2024 12:51:44] \"POST /environment HTTP/1.1\" 405 -\n"
     ]
    },
    {
     "name": "stdout",
     "output_type": "stream",
     "text": [
      "{'temp': 25.8, 'humid': 72.0, 'pm': 10.4, 'rain': 49.0, 'gas': 69.0, 'light': 157.0}\n"
     ]
    },
    {
     "name": "stderr",
     "output_type": "stream",
     "text": [
      "220.68.27.103 - - [13/Jun/2024 12:51:49] \"GET /environment HTTP/1.1\" 200 -\n",
      "220.68.27.64 - - [13/Jun/2024 12:51:49] \"GET /window_status HTTP/1.1\" 200 -\n",
      "220.68.27.64 - - [13/Jun/2024 12:51:49] \"POST /api HTTP/1.1\" 200 -\n",
      "220.68.27.64 - - [13/Jun/2024 12:51:49] \"POST /environment HTTP/1.1\" 405 -\n"
     ]
    },
    {
     "name": "stdout",
     "output_type": "stream",
     "text": [
      "{'temp': 25.8, 'humid': 72.0, 'pm': 15.38, 'rain': 47.0, 'gas': 68.0, 'light': 157.0}\n"
     ]
    },
    {
     "name": "stderr",
     "output_type": "stream",
     "text": [
      "220.68.27.103 - - [13/Jun/2024 12:51:54] \"GET /environment HTTP/1.1\" 200 -\n",
      "220.68.27.64 - - [13/Jun/2024 12:51:54] \"GET /window_status HTTP/1.1\" 200 -\n",
      "220.68.27.64 - - [13/Jun/2024 12:51:54] \"POST /api HTTP/1.1\" 200 -\n",
      "220.68.27.64 - - [13/Jun/2024 12:51:54] \"POST /environment HTTP/1.1\" 405 -\n"
     ]
    },
    {
     "name": "stdout",
     "output_type": "stream",
     "text": [
      "{'temp': 25.8, 'humid': 72.0, 'pm': 0.0, 'rain': 47.0, 'gas': 68.0, 'light': 157.0}\n"
     ]
    },
    {
     "name": "stderr",
     "output_type": "stream",
     "text": [
      "220.68.27.103 - - [13/Jun/2024 12:51:59] \"GET /environment HTTP/1.1\" 200 -\n",
      "220.68.27.64 - - [13/Jun/2024 12:51:59] \"GET /window_status HTTP/1.1\" 200 -\n",
      "220.68.27.64 - - [13/Jun/2024 12:51:59] \"POST /api HTTP/1.1\" 200 -\n",
      "220.68.27.64 - - [13/Jun/2024 12:51:59] \"POST /environment HTTP/1.1\" 405 -\n"
     ]
    },
    {
     "name": "stdout",
     "output_type": "stream",
     "text": [
      "{'temp': 25.8, 'humid': 72.0, 'pm': 0.0, 'rain': 47.0, 'gas': 68.0, 'light': 159.0}\n"
     ]
    },
    {
     "name": "stderr",
     "output_type": "stream",
     "text": [
      "220.68.27.103 - - [13/Jun/2024 12:52:04] \"GET /environment HTTP/1.1\" 200 -\n",
      "220.68.27.64 - - [13/Jun/2024 12:52:04] \"GET /window_status HTTP/1.1\" 200 -\n",
      "220.68.27.64 - - [13/Jun/2024 12:52:04] \"POST /api HTTP/1.1\" 200 -\n",
      "220.68.27.64 - - [13/Jun/2024 12:52:04] \"POST /environment HTTP/1.1\" 405 -\n"
     ]
    },
    {
     "name": "stdout",
     "output_type": "stream",
     "text": [
      "{'temp': 25.8, 'humid': 72.0, 'pm': 12.89, 'rain': 47.0, 'gas': 68.0, 'light': 158.0}\n"
     ]
    },
    {
     "name": "stderr",
     "output_type": "stream",
     "text": [
      "220.68.27.103 - - [13/Jun/2024 12:52:09] \"GET /environment HTTP/1.1\" 200 -\n",
      "220.68.27.64 - - [13/Jun/2024 12:52:09] \"GET /window_status HTTP/1.1\" 200 -\n",
      "220.68.27.64 - - [13/Jun/2024 12:52:10] \"POST /api HTTP/1.1\" 200 -\n",
      "220.68.27.64 - - [13/Jun/2024 12:52:10] \"POST /environment HTTP/1.1\" 405 -\n"
     ]
    },
    {
     "name": "stdout",
     "output_type": "stream",
     "text": [
      "{'temp': 25.8, 'humid': 72.0, 'pm': 16.21, 'rain': 50.0, 'gas': 72.0, 'light': 159.0}\n"
     ]
    },
    {
     "name": "stderr",
     "output_type": "stream",
     "text": [
      "220.68.27.103 - - [13/Jun/2024 12:52:14] \"GET /environment HTTP/1.1\" 200 -\n",
      "220.68.27.64 - - [13/Jun/2024 12:52:15] \"GET /window_status HTTP/1.1\" 200 -\n",
      "220.68.27.64 - - [13/Jun/2024 12:52:15] \"POST /api HTTP/1.1\" 200 -\n",
      "220.68.27.64 - - [13/Jun/2024 12:52:15] \"POST /environment HTTP/1.1\" 405 -\n"
     ]
    },
    {
     "name": "stdout",
     "output_type": "stream",
     "text": [
      "{'temp': 25.8, 'humid': 72.0, 'pm': 13.72, 'rain': 46.0, 'gas': 67.0, 'light': 158.0}\n"
     ]
    },
    {
     "name": "stderr",
     "output_type": "stream",
     "text": [
      "220.68.27.103 - - [13/Jun/2024 12:52:19] \"GET /environment HTTP/1.1\" 200 -\n",
      "220.68.27.64 - - [13/Jun/2024 12:52:20] \"GET /window_status HTTP/1.1\" 200 -\n",
      "220.68.27.64 - - [13/Jun/2024 12:52:20] \"POST /api HTTP/1.1\" 200 -\n",
      "220.68.27.64 - - [13/Jun/2024 12:52:20] \"POST /environment HTTP/1.1\" 405 -\n"
     ]
    },
    {
     "name": "stdout",
     "output_type": "stream",
     "text": [
      "{'temp': 25.8, 'humid': 72.0, 'pm': 10.4, 'rain': 47.0, 'gas': 68.0, 'light': 158.0}\n"
     ]
    },
    {
     "name": "stderr",
     "output_type": "stream",
     "text": [
      "220.68.27.103 - - [13/Jun/2024 12:52:24] \"GET /environment HTTP/1.1\" 200 -\n",
      "220.68.27.64 - - [13/Jun/2024 12:52:25] \"GET /window_status HTTP/1.1\" 200 -\n",
      "220.68.27.64 - - [13/Jun/2024 12:52:25] \"POST /api HTTP/1.1\" 200 -\n",
      "220.68.27.64 - - [13/Jun/2024 12:52:25] \"POST /environment HTTP/1.1\" 405 -\n"
     ]
    },
    {
     "name": "stdout",
     "output_type": "stream",
     "text": [
      "{'temp': 25.8, 'humid': 72.0, 'pm': 13.72, 'rain': 46.0, 'gas': 67.0, 'light': 160.0}\n"
     ]
    },
    {
     "name": "stderr",
     "output_type": "stream",
     "text": [
      "220.68.27.103 - - [13/Jun/2024 12:52:29] \"GET /environment HTTP/1.1\" 200 -\n",
      "220.68.27.64 - - [13/Jun/2024 12:52:30] \"GET /window_status HTTP/1.1\" 200 -\n",
      "220.68.27.64 - - [13/Jun/2024 12:52:30] \"POST /api HTTP/1.1\" 200 -\n",
      "220.68.27.64 - - [13/Jun/2024 12:52:30] \"POST /environment HTTP/1.1\" 405 -\n"
     ]
    },
    {
     "name": "stdout",
     "output_type": "stream",
     "text": [
      "{'temp': 25.8, 'humid': 72.0, 'pm': 22.85, 'rain': 45.0, 'gas': 67.0, 'light': 157.0}\n"
     ]
    },
    {
     "name": "stderr",
     "output_type": "stream",
     "text": [
      "220.68.27.103 - - [13/Jun/2024 12:52:31] \"GET /environment HTTP/1.1\" 200 -\n",
      "220.68.27.103 - - [13/Jun/2024 12:52:31] \"GET /environment HTTP/1.1\" 200 -\n",
      "220.68.27.103 - - [13/Jun/2024 12:52:34] \"GET /environment HTTP/1.1\" 200 -\n",
      "220.68.27.64 - - [13/Jun/2024 12:52:35] \"GET /window_status HTTP/1.1\" 200 -\n",
      "220.68.27.64 - - [13/Jun/2024 12:52:35] \"POST /api HTTP/1.1\" 200 -\n",
      "220.68.27.64 - - [13/Jun/2024 12:52:36] \"POST /environment HTTP/1.1\" 405 -\n"
     ]
    },
    {
     "name": "stdout",
     "output_type": "stream",
     "text": [
      "{'temp': 25.8, 'humid': 72.0, 'pm': 7.91, 'rain': 47.0, 'gas': 71.0, 'light': 157.0}\n"
     ]
    },
    {
     "name": "stderr",
     "output_type": "stream",
     "text": [
      "220.68.27.103 - - [13/Jun/2024 12:52:39] \"GET /environment HTTP/1.1\" 200 -\n",
      "220.68.27.64 - - [13/Jun/2024 12:52:41] \"GET /window_status HTTP/1.1\" 200 -\n",
      "220.68.27.64 - - [13/Jun/2024 12:52:41] \"POST /api HTTP/1.1\" 200 -\n",
      "220.68.27.64 - - [13/Jun/2024 12:52:41] \"POST /environment HTTP/1.1\" 405 -\n"
     ]
    },
    {
     "name": "stdout",
     "output_type": "stream",
     "text": [
      "{'temp': 25.8, 'humid': 72.0, 'pm': 21.19, 'rain': 48.0, 'gas': 68.0, 'light': 157.0}\n"
     ]
    },
    {
     "name": "stderr",
     "output_type": "stream",
     "text": [
      "220.68.27.103 - - [13/Jun/2024 12:52:44] \"GET /environment HTTP/1.1\" 200 -\n",
      "220.68.27.64 - - [13/Jun/2024 12:52:46] \"GET /window_status HTTP/1.1\" 200 -\n",
      "220.68.27.64 - - [13/Jun/2024 12:52:46] \"POST /api HTTP/1.1\" 200 -\n",
      "220.68.27.64 - - [13/Jun/2024 12:52:46] \"POST /environment HTTP/1.1\" 405 -\n"
     ]
    },
    {
     "name": "stdout",
     "output_type": "stream",
     "text": [
      "{'temp': 25.8, 'humid': 72.0, 'pm': 0.0, 'rain': 44.0, 'gas': 65.0, 'light': 155.0}\n"
     ]
    },
    {
     "name": "stderr",
     "output_type": "stream",
     "text": [
      "220.68.27.103 - - [13/Jun/2024 12:52:49] \"GET /environment HTTP/1.1\" 200 -\n",
      "220.68.27.64 - - [13/Jun/2024 12:52:51] \"GET /window_status HTTP/1.1\" 200 -\n",
      "220.68.27.64 - - [13/Jun/2024 12:52:51] \"POST /api HTTP/1.1\" 200 -\n",
      "220.68.27.64 - - [13/Jun/2024 12:52:51] \"POST /environment HTTP/1.1\" 405 -\n"
     ]
    },
    {
     "name": "stdout",
     "output_type": "stream",
     "text": [
      "{'temp': 25.8, 'humid': 72.0, 'pm': 13.72, 'rain': 42.0, 'gas': 64.0, 'light': 155.0}\n"
     ]
    },
    {
     "name": "stderr",
     "output_type": "stream",
     "text": [
      "220.68.27.103 - - [13/Jun/2024 12:52:54] \"GET /environment HTTP/1.1\" 200 -\n",
      "220.68.27.64 - - [13/Jun/2024 12:52:56] \"GET /window_status HTTP/1.1\" 200 -\n",
      "220.68.27.64 - - [13/Jun/2024 12:52:56] \"POST /api HTTP/1.1\" 200 -\n",
      "220.68.27.64 - - [13/Jun/2024 12:52:56] \"POST /environment HTTP/1.1\" 405 -\n"
     ]
    },
    {
     "name": "stdout",
     "output_type": "stream",
     "text": [
      "{'temp': 25.8, 'humid': 72.0, 'pm': 0.0, 'rain': 43.0, 'gas': 64.0, 'light': 155.0}\n"
     ]
    },
    {
     "name": "stderr",
     "output_type": "stream",
     "text": [
      "220.68.27.103 - - [13/Jun/2024 12:52:59] \"GET /environment HTTP/1.1\" 200 -\n",
      "220.68.27.64 - - [13/Jun/2024 12:53:01] \"GET /window_status HTTP/1.1\" 200 -\n",
      "220.68.27.64 - - [13/Jun/2024 12:53:01] \"POST /api HTTP/1.1\" 200 -\n",
      "220.68.27.64 - - [13/Jun/2024 12:53:01] \"POST /environment HTTP/1.1\" 405 -\n"
     ]
    },
    {
     "name": "stdout",
     "output_type": "stream",
     "text": [
      "{'temp': 25.8, 'humid': 72.0, 'pm': 3.76, 'rain': 42.0, 'gas': 64.0, 'light': 154.0}\n"
     ]
    },
    {
     "name": "stderr",
     "output_type": "stream",
     "text": [
      "220.68.27.103 - - [13/Jun/2024 12:53:04] \"GET /environment HTTP/1.1\" 200 -\n",
      "220.68.27.64 - - [13/Jun/2024 12:53:06] \"GET /window_status HTTP/1.1\" 200 -\n",
      "220.68.27.64 - - [13/Jun/2024 12:53:07] \"POST /api HTTP/1.1\" 200 -\n",
      "220.68.27.64 - - [13/Jun/2024 12:53:07] \"POST /environment HTTP/1.1\" 405 -\n"
     ]
    },
    {
     "name": "stdout",
     "output_type": "stream",
     "text": [
      "{'temp': 25.8, 'humid': 72.0, 'pm': 0.0, 'rain': 42.0, 'gas': 64.0, 'light': 154.0}\n"
     ]
    },
    {
     "name": "stderr",
     "output_type": "stream",
     "text": [
      "220.68.27.103 - - [13/Jun/2024 12:53:09] \"GET /environment HTTP/1.1\" 200 -\n",
      "220.68.27.103 - - [13/Jun/2024 12:53:09] \"GET /environment HTTP/1.1\" 200 -\n",
      "220.68.27.64 - - [13/Jun/2024 12:53:12] \"GET /window_status HTTP/1.1\" 200 -\n",
      "220.68.27.64 - - [13/Jun/2024 12:53:12] \"POST /api HTTP/1.1\" 200 -\n",
      "220.68.27.64 - - [13/Jun/2024 12:53:12] \"POST /environment HTTP/1.1\" 405 -\n"
     ]
    },
    {
     "name": "stdout",
     "output_type": "stream",
     "text": [
      "{'temp': 25.8, 'humid': 72.0, 'pm': 16.21, 'rain': 42.0, 'gas': 64.0, 'light': 153.0}\n"
     ]
    },
    {
     "name": "stderr",
     "output_type": "stream",
     "text": [
      "220.68.27.103 - - [13/Jun/2024 12:53:15] \"GET /environment HTTP/1.1\" 200 -\n",
      "220.68.27.64 - - [13/Jun/2024 12:53:17] \"GET /window_status HTTP/1.1\" 200 -\n",
      "220.68.27.64 - - [13/Jun/2024 12:53:17] \"POST /api HTTP/1.1\" 200 -\n",
      "220.68.27.64 - - [13/Jun/2024 12:53:17] \"POST /environment HTTP/1.1\" 405 -\n"
     ]
    },
    {
     "name": "stdout",
     "output_type": "stream",
     "text": [
      "{'temp': 25.8, 'humid': 72.0, 'pm': 11.23, 'rain': 44.0, 'gas': 68.0, 'light': 155.0}\n"
     ]
    },
    {
     "name": "stderr",
     "output_type": "stream",
     "text": [
      "220.68.27.103 - - [13/Jun/2024 12:53:20] \"GET /environment HTTP/1.1\" 200 -\n",
      "220.68.27.64 - - [13/Jun/2024 12:53:22] \"GET /window_status HTTP/1.1\" 200 -\n",
      "220.68.27.64 - - [13/Jun/2024 12:53:22] \"POST /api HTTP/1.1\" 200 -\n",
      "220.68.27.64 - - [13/Jun/2024 12:53:22] \"POST /environment HTTP/1.1\" 405 -\n"
     ]
    },
    {
     "name": "stdout",
     "output_type": "stream",
     "text": [
      "{'temp': 25.8, 'humid': 72.0, 'pm': 6.25, 'rain': 41.0, 'gas': 63.0, 'light': 153.0}\n"
     ]
    },
    {
     "name": "stderr",
     "output_type": "stream",
     "text": [
      "220.68.27.103 - - [13/Jun/2024 12:53:25] \"GET /environment HTTP/1.1\" 200 -\n",
      "220.68.27.64 - - [13/Jun/2024 12:53:27] \"GET /window_status HTTP/1.1\" 200 -\n",
      "220.68.27.64 - - [13/Jun/2024 12:53:27] \"POST /api HTTP/1.1\" 200 -\n",
      "220.68.27.64 - - [13/Jun/2024 12:53:27] \"POST /environment HTTP/1.1\" 405 -\n"
     ]
    },
    {
     "name": "stdout",
     "output_type": "stream",
     "text": [
      "{'temp': 25.8, 'humid': 72.0, 'pm': 9.57, 'rain': 42.0, 'gas': 63.0, 'light': 152.0}\n"
     ]
    },
    {
     "name": "stderr",
     "output_type": "stream",
     "text": [
      "220.68.27.103 - - [13/Jun/2024 12:53:30] \"GET /environment HTTP/1.1\" 200 -\n",
      "220.68.27.103 - - [13/Jun/2024 12:53:31] \"GET /environment HTTP/1.1\" 200 -\n",
      "220.68.27.64 - - [13/Jun/2024 12:53:32] \"GET /window_status HTTP/1.1\" 200 -\n",
      "220.68.27.64 - - [13/Jun/2024 12:53:32] \"POST /api HTTP/1.1\" 200 -\n",
      "220.68.27.64 - - [13/Jun/2024 12:53:32] \"POST /environment HTTP/1.1\" 405 -\n"
     ]
    },
    {
     "name": "stdout",
     "output_type": "stream",
     "text": [
      "{'temp': 25.8, 'humid': 73.0, 'pm': 7.91, 'rain': 42.0, 'gas': 63.0, 'light': 152.0}\n"
     ]
    },
    {
     "name": "stderr",
     "output_type": "stream",
     "text": [
      "220.68.27.103 - - [13/Jun/2024 12:53:35] \"GET /environment HTTP/1.1\" 200 -\n"
     ]
    }
   ],
   "source": [
    "from flask import Flask, request, jsonify, render_template\n",
    "import random\n",
    "\n",
    "app = Flask(__name__)\n",
    "\n",
    "window_status = {\n",
    "    \"status\": \"stop\"  # 초기 창문 상태 설정\n",
    "}\n",
    "\n",
    "# 초기 환경 데이터 설정\n",
    "environment_data = {\n",
    "    \"temp\": 0,\n",
    "    \"humidity\": 0,\n",
    "    \"pm\": 0,\n",
    "    \"rain\": 0,\n",
    "    \"gas\": 0,\n",
    "    \"light\": 0\n",
    "}\n",
    "\n",
    "@app.route('/')\n",
    "def index():\n",
    "    return render_template('index.html', status=window_status[\"status\"])\n",
    "\n",
    "def send_en(data):\n",
    "    pm25 = data['pm']\n",
    "    temperature = data['temp']\n",
    "    humidity = data['humid']\n",
    "    rain = data['rain']\n",
    "    gas = data['gas']\n",
    "    light = data['light']\n",
    "\n",
    "    global environment_data\n",
    "    environment_data = {\n",
    "        \"pm25\": pm25,\n",
    "        \"temperature\": temperature,\n",
    "        \"humidity\": humidity,\n",
    "        \"rain\": rain,\n",
    "        \"gas\": gas,\n",
    "        \"light\": light\n",
    "    }\n",
    "\n",
    "    return pm25, temperature, humidity, rain, gas, light\n",
    "\n",
    "@app.route('/api', methods=['POST'])\n",
    "def api():\n",
    "    data = request.get_json()\n",
    "    print(data)\n",
    "    send_en(data)\n",
    "    return jsonify({\"message\": \"Data received\", \"data\": data})\n",
    "\n",
    "@app.route('/window', methods=['POST'])\n",
    "def window():\n",
    "    global window_status\n",
    "    action = request.form.get('action')\n",
    "    if action == 'open':\n",
    "        window_status[\"status\"] = \"open\"\n",
    "    elif action == 'close':\n",
    "        window_status[\"status\"] = \"closed\"\n",
    "    else:\n",
    "        window_status[\"status\"] = \"stop\"\n",
    "    return jsonify({\"message\": f\"Window {action}ed\", \"status\": window_status[\"status\"]})\n",
    "\n",
    "@app.route('/window_status', methods=['GET'])\n",
    "def window_status_endpoint():\n",
    "    return jsonify(window_status)\n",
    "\n",
    "@app.route('/environment', methods=['GET'])\n",
    "def environment():\n",
    "    return jsonify(environment_data)\n",
    "\n",
    "if __name__ == '__main__':\n",
    "    app.run(host='0.0.0.0', port=5000)\n"
   ]
  }
 ],
 "metadata": {
  "kernelspec": {
   "display_name": "Python 3",
   "language": "python",
   "name": "python3"
  },
  "language_info": {
   "codemirror_mode": {
    "name": "ipython",
    "version": 3
   },
   "file_extension": ".py",
   "mimetype": "text/x-python",
   "name": "python",
   "nbconvert_exporter": "python",
   "pygments_lexer": "ipython3",
   "version": "3.12.3"
  }
 },
 "nbformat": 4,
 "nbformat_minor": 2
}
